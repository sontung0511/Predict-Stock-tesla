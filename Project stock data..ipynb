{
  "nbformat": 4,
  "nbformat_minor": 0,
  "metadata": {
    "colab": {
      "provenance": []
    },
    "kernelspec": {
      "name": "python3",
      "display_name": "Python 3"
    },
    "language_info": {
      "name": "python"
    }
  },
  "cells": [
    {
      "cell_type": "code",
      "source": [
        "import math \n",
        "import numpy as np \n",
        "import pandas as pd \n",
        "from datetime import date, timedelta, datetime \n",
        "from pandas.plotting import register_matplotlib_converters \n",
        "import matplotlib.pyplot as plt \n",
        "import matplotlib.dates as mdates \n",
        "import tensorflow as tf\n",
        "from sklearn.metrics import mean_absolute_error, mean_squared_error \n",
        "from tensorflow.keras import Sequential \n",
        "from tensorflow.keras.layers import LSTM, Dense, Dropout \n",
        "from tensorflow.keras.callbacks import EarlyStopping \n",
        "from sklearn.preprocessing import RobustScaler, MinMaxScaler \n",
        "import seaborn as sns \n",
        "from sklearn.metrics import mean_squared_error, r2_score, mean_absolute_error"
      ],
      "metadata": {
        "id": "spVxgBAPzV4J"
      },
      "execution_count": null,
      "outputs": []
    },
    {
      "cell_type": "code",
      "source": [
        "from google.colab import drive \n",
        "drive.mount('/content/drive')"
      ],
      "metadata": {
        "colab": {
          "base_uri": "https://localhost:8080/"
        },
        "id": "3hOEusDmTnz2",
        "outputId": "4da58eeb-d019-4b26-f0a8-0f7d027db283"
      },
      "execution_count": null,
      "outputs": [
        {
          "output_type": "stream",
          "name": "stdout",
          "text": [
            "Mounted at /content/drive\n"
          ]
        }
      ]
    },
    {
      "cell_type": "markdown",
      "source": [
        "# Loading Dataset"
      ],
      "metadata": {
        "id": "AJe0P2UTvAb9"
      }
    },
    {
      "cell_type": "code",
      "source": [
        "import pandas as pd\n",
        "#df = pd.read_csv('/content/drive/MyDrive/Semester 7/Machine Learning/Final Report/GOOG.csv', index_col= 'Date')\n",
        "df = pd.read_csv('/content/drive/MyDrive/Machine Learning/Final Report/GOOG.csv', index_col= 'Date')\n",
        "#drop null value \n",
        "df.dropna(inplace=True)"
      ],
      "metadata": {
        "id": "sbi-R8bHUiZl"
      },
      "execution_count": null,
      "outputs": []
    },
    {
      "cell_type": "code",
      "source": [
        "df"
      ],
      "metadata": {
        "colab": {
          "base_uri": "https://localhost:8080/",
          "height": 455
        },
        "id": "xVC_xyjZPmku",
        "outputId": "545ca302-df1f-4bc6-964b-1dc84a6c669d"
      },
      "execution_count": null,
      "outputs": [
        {
          "output_type": "execute_result",
          "data": {
            "text/plain": [
              "                 Open        High        Low      Close  Adj Close    Volume\n",
              "Date                                                                        \n",
              "2019-01-02  50.828499   52.616001  50.785500  52.292500  52.292500  30652000\n",
              "2019-01-03  52.049999   52.848999  50.703499  50.803001  50.803001  36822000\n",
              "2019-01-04  51.629501   53.542000  51.370899  53.535500  53.535500  41878000\n",
              "2019-01-07  53.575001   53.700001  52.737999  53.419498  53.419498  39638000\n",
              "2019-01-08  53.805500   54.228001  53.026501  53.813999  53.813999  35298000\n",
              "...               ...         ...        ...        ...        ...       ...\n",
              "2022-11-14  95.500000   97.180000  95.112999  96.029999  96.029999  24170100\n",
              "2022-11-15  98.669998  100.419998  97.019997  98.720001  98.720001  31831000\n",
              "2022-11-16  98.019997   99.849998  97.902000  98.989998  98.989998  24660200\n",
              "2022-11-17  97.180000   99.480003  97.099998  98.500000  98.500000  21818700\n",
              "2022-11-18  99.010002   99.160004  96.739998  97.800003  97.800003  24959300\n",
              "\n",
              "[980 rows x 6 columns]"
            ],
            "text/html": [
              "\n",
              "  <div id=\"df-f43043a6-231b-4139-ad2d-fddeebf71ca7\">\n",
              "    <div class=\"colab-df-container\">\n",
              "      <div>\n",
              "<style scoped>\n",
              "    .dataframe tbody tr th:only-of-type {\n",
              "        vertical-align: middle;\n",
              "    }\n",
              "\n",
              "    .dataframe tbody tr th {\n",
              "        vertical-align: top;\n",
              "    }\n",
              "\n",
              "    .dataframe thead th {\n",
              "        text-align: right;\n",
              "    }\n",
              "</style>\n",
              "<table border=\"1\" class=\"dataframe\">\n",
              "  <thead>\n",
              "    <tr style=\"text-align: right;\">\n",
              "      <th></th>\n",
              "      <th>Open</th>\n",
              "      <th>High</th>\n",
              "      <th>Low</th>\n",
              "      <th>Close</th>\n",
              "      <th>Adj Close</th>\n",
              "      <th>Volume</th>\n",
              "    </tr>\n",
              "    <tr>\n",
              "      <th>Date</th>\n",
              "      <th></th>\n",
              "      <th></th>\n",
              "      <th></th>\n",
              "      <th></th>\n",
              "      <th></th>\n",
              "      <th></th>\n",
              "    </tr>\n",
              "  </thead>\n",
              "  <tbody>\n",
              "    <tr>\n",
              "      <th>2019-01-02</th>\n",
              "      <td>50.828499</td>\n",
              "      <td>52.616001</td>\n",
              "      <td>50.785500</td>\n",
              "      <td>52.292500</td>\n",
              "      <td>52.292500</td>\n",
              "      <td>30652000</td>\n",
              "    </tr>\n",
              "    <tr>\n",
              "      <th>2019-01-03</th>\n",
              "      <td>52.049999</td>\n",
              "      <td>52.848999</td>\n",
              "      <td>50.703499</td>\n",
              "      <td>50.803001</td>\n",
              "      <td>50.803001</td>\n",
              "      <td>36822000</td>\n",
              "    </tr>\n",
              "    <tr>\n",
              "      <th>2019-01-04</th>\n",
              "      <td>51.629501</td>\n",
              "      <td>53.542000</td>\n",
              "      <td>51.370899</td>\n",
              "      <td>53.535500</td>\n",
              "      <td>53.535500</td>\n",
              "      <td>41878000</td>\n",
              "    </tr>\n",
              "    <tr>\n",
              "      <th>2019-01-07</th>\n",
              "      <td>53.575001</td>\n",
              "      <td>53.700001</td>\n",
              "      <td>52.737999</td>\n",
              "      <td>53.419498</td>\n",
              "      <td>53.419498</td>\n",
              "      <td>39638000</td>\n",
              "    </tr>\n",
              "    <tr>\n",
              "      <th>2019-01-08</th>\n",
              "      <td>53.805500</td>\n",
              "      <td>54.228001</td>\n",
              "      <td>53.026501</td>\n",
              "      <td>53.813999</td>\n",
              "      <td>53.813999</td>\n",
              "      <td>35298000</td>\n",
              "    </tr>\n",
              "    <tr>\n",
              "      <th>...</th>\n",
              "      <td>...</td>\n",
              "      <td>...</td>\n",
              "      <td>...</td>\n",
              "      <td>...</td>\n",
              "      <td>...</td>\n",
              "      <td>...</td>\n",
              "    </tr>\n",
              "    <tr>\n",
              "      <th>2022-11-14</th>\n",
              "      <td>95.500000</td>\n",
              "      <td>97.180000</td>\n",
              "      <td>95.112999</td>\n",
              "      <td>96.029999</td>\n",
              "      <td>96.029999</td>\n",
              "      <td>24170100</td>\n",
              "    </tr>\n",
              "    <tr>\n",
              "      <th>2022-11-15</th>\n",
              "      <td>98.669998</td>\n",
              "      <td>100.419998</td>\n",
              "      <td>97.019997</td>\n",
              "      <td>98.720001</td>\n",
              "      <td>98.720001</td>\n",
              "      <td>31831000</td>\n",
              "    </tr>\n",
              "    <tr>\n",
              "      <th>2022-11-16</th>\n",
              "      <td>98.019997</td>\n",
              "      <td>99.849998</td>\n",
              "      <td>97.902000</td>\n",
              "      <td>98.989998</td>\n",
              "      <td>98.989998</td>\n",
              "      <td>24660200</td>\n",
              "    </tr>\n",
              "    <tr>\n",
              "      <th>2022-11-17</th>\n",
              "      <td>97.180000</td>\n",
              "      <td>99.480003</td>\n",
              "      <td>97.099998</td>\n",
              "      <td>98.500000</td>\n",
              "      <td>98.500000</td>\n",
              "      <td>21818700</td>\n",
              "    </tr>\n",
              "    <tr>\n",
              "      <th>2022-11-18</th>\n",
              "      <td>99.010002</td>\n",
              "      <td>99.160004</td>\n",
              "      <td>96.739998</td>\n",
              "      <td>97.800003</td>\n",
              "      <td>97.800003</td>\n",
              "      <td>24959300</td>\n",
              "    </tr>\n",
              "  </tbody>\n",
              "</table>\n",
              "<p>980 rows × 6 columns</p>\n",
              "</div>\n",
              "      <button class=\"colab-df-convert\" onclick=\"convertToInteractive('df-f43043a6-231b-4139-ad2d-fddeebf71ca7')\"\n",
              "              title=\"Convert this dataframe to an interactive table.\"\n",
              "              style=\"display:none;\">\n",
              "        \n",
              "  <svg xmlns=\"http://www.w3.org/2000/svg\" height=\"24px\"viewBox=\"0 0 24 24\"\n",
              "       width=\"24px\">\n",
              "    <path d=\"M0 0h24v24H0V0z\" fill=\"none\"/>\n",
              "    <path d=\"M18.56 5.44l.94 2.06.94-2.06 2.06-.94-2.06-.94-.94-2.06-.94 2.06-2.06.94zm-11 1L8.5 8.5l.94-2.06 2.06-.94-2.06-.94L8.5 2.5l-.94 2.06-2.06.94zm10 10l.94 2.06.94-2.06 2.06-.94-2.06-.94-.94-2.06-.94 2.06-2.06.94z\"/><path d=\"M17.41 7.96l-1.37-1.37c-.4-.4-.92-.59-1.43-.59-.52 0-1.04.2-1.43.59L10.3 9.45l-7.72 7.72c-.78.78-.78 2.05 0 2.83L4 21.41c.39.39.9.59 1.41.59.51 0 1.02-.2 1.41-.59l7.78-7.78 2.81-2.81c.8-.78.8-2.07 0-2.86zM5.41 20L4 18.59l7.72-7.72 1.47 1.35L5.41 20z\"/>\n",
              "  </svg>\n",
              "      </button>\n",
              "      \n",
              "  <style>\n",
              "    .colab-df-container {\n",
              "      display:flex;\n",
              "      flex-wrap:wrap;\n",
              "      gap: 12px;\n",
              "    }\n",
              "\n",
              "    .colab-df-convert {\n",
              "      background-color: #E8F0FE;\n",
              "      border: none;\n",
              "      border-radius: 50%;\n",
              "      cursor: pointer;\n",
              "      display: none;\n",
              "      fill: #1967D2;\n",
              "      height: 32px;\n",
              "      padding: 0 0 0 0;\n",
              "      width: 32px;\n",
              "    }\n",
              "\n",
              "    .colab-df-convert:hover {\n",
              "      background-color: #E2EBFA;\n",
              "      box-shadow: 0px 1px 2px rgba(60, 64, 67, 0.3), 0px 1px 3px 1px rgba(60, 64, 67, 0.15);\n",
              "      fill: #174EA6;\n",
              "    }\n",
              "\n",
              "    [theme=dark] .colab-df-convert {\n",
              "      background-color: #3B4455;\n",
              "      fill: #D2E3FC;\n",
              "    }\n",
              "\n",
              "    [theme=dark] .colab-df-convert:hover {\n",
              "      background-color: #434B5C;\n",
              "      box-shadow: 0px 1px 3px 1px rgba(0, 0, 0, 0.15);\n",
              "      filter: drop-shadow(0px 1px 2px rgba(0, 0, 0, 0.3));\n",
              "      fill: #FFFFFF;\n",
              "    }\n",
              "  </style>\n",
              "\n",
              "      <script>\n",
              "        const buttonEl =\n",
              "          document.querySelector('#df-f43043a6-231b-4139-ad2d-fddeebf71ca7 button.colab-df-convert');\n",
              "        buttonEl.style.display =\n",
              "          google.colab.kernel.accessAllowed ? 'block' : 'none';\n",
              "\n",
              "        async function convertToInteractive(key) {\n",
              "          const element = document.querySelector('#df-f43043a6-231b-4139-ad2d-fddeebf71ca7');\n",
              "          const dataTable =\n",
              "            await google.colab.kernel.invokeFunction('convertToInteractive',\n",
              "                                                     [key], {});\n",
              "          if (!dataTable) return;\n",
              "\n",
              "          const docLinkHtml = 'Like what you see? Visit the ' +\n",
              "            '<a target=\"_blank\" href=https://colab.research.google.com/notebooks/data_table.ipynb>data table notebook</a>'\n",
              "            + ' to learn more about interactive tables.';\n",
              "          element.innerHTML = '';\n",
              "          dataTable['output_type'] = 'display_data';\n",
              "          await google.colab.output.renderOutput(dataTable, element);\n",
              "          const docLink = document.createElement('div');\n",
              "          docLink.innerHTML = docLinkHtml;\n",
              "          element.appendChild(docLink);\n",
              "        }\n",
              "      </script>\n",
              "    </div>\n",
              "  </div>\n",
              "  "
            ]
          },
          "metadata": {},
          "execution_count": 4
        }
      ]
    },
    {
      "cell_type": "code",
      "source": [
        "df.describe()"
      ],
      "metadata": {
        "colab": {
          "base_uri": "https://localhost:8080/",
          "height": 300
        },
        "id": "dsyBPUdSksST",
        "outputId": "4a52e0a1-b175-471c-da5b-2c775d0d2140"
      },
      "execution_count": null,
      "outputs": [
        {
          "output_type": "execute_result",
          "data": {
            "text/plain": [
              "             Open        High         Low       Close   Adj Close  \\\n",
              "count  980.000000  980.000000  980.000000  980.000000  980.000000   \n",
              "mean    93.453010   94.506919   92.466048   93.500752   93.500752   \n",
              "std     30.995042   31.279238   30.638583   30.934131   30.934131   \n",
              "min     50.828499   52.374500   50.676800   50.803001   50.803001   \n",
              "25%     63.819749   64.681250   63.306939   64.126749   64.126749   \n",
              "50%     87.703251   88.661751   87.013001   87.677750   87.677750   \n",
              "75%    119.630247  120.939253  118.189751  119.650123  119.650123   \n",
              "max    151.863495  152.100006  149.887497  150.709000  150.709000   \n",
              "\n",
              "             Volume  \n",
              "count  9.800000e+02  \n",
              "mean   3.021579e+07  \n",
              "std    1.318145e+07  \n",
              "min    6.936000e+06  \n",
              "25%    2.185300e+07  \n",
              "50%    2.708200e+07  \n",
              "75%    3.416150e+07  \n",
              "max    1.241400e+08  "
            ],
            "text/html": [
              "\n",
              "  <div id=\"df-6be8b107-af55-4567-a9e9-6a364c33ae1f\">\n",
              "    <div class=\"colab-df-container\">\n",
              "      <div>\n",
              "<style scoped>\n",
              "    .dataframe tbody tr th:only-of-type {\n",
              "        vertical-align: middle;\n",
              "    }\n",
              "\n",
              "    .dataframe tbody tr th {\n",
              "        vertical-align: top;\n",
              "    }\n",
              "\n",
              "    .dataframe thead th {\n",
              "        text-align: right;\n",
              "    }\n",
              "</style>\n",
              "<table border=\"1\" class=\"dataframe\">\n",
              "  <thead>\n",
              "    <tr style=\"text-align: right;\">\n",
              "      <th></th>\n",
              "      <th>Open</th>\n",
              "      <th>High</th>\n",
              "      <th>Low</th>\n",
              "      <th>Close</th>\n",
              "      <th>Adj Close</th>\n",
              "      <th>Volume</th>\n",
              "    </tr>\n",
              "  </thead>\n",
              "  <tbody>\n",
              "    <tr>\n",
              "      <th>count</th>\n",
              "      <td>980.000000</td>\n",
              "      <td>980.000000</td>\n",
              "      <td>980.000000</td>\n",
              "      <td>980.000000</td>\n",
              "      <td>980.000000</td>\n",
              "      <td>9.800000e+02</td>\n",
              "    </tr>\n",
              "    <tr>\n",
              "      <th>mean</th>\n",
              "      <td>93.453010</td>\n",
              "      <td>94.506919</td>\n",
              "      <td>92.466048</td>\n",
              "      <td>93.500752</td>\n",
              "      <td>93.500752</td>\n",
              "      <td>3.021579e+07</td>\n",
              "    </tr>\n",
              "    <tr>\n",
              "      <th>std</th>\n",
              "      <td>30.995042</td>\n",
              "      <td>31.279238</td>\n",
              "      <td>30.638583</td>\n",
              "      <td>30.934131</td>\n",
              "      <td>30.934131</td>\n",
              "      <td>1.318145e+07</td>\n",
              "    </tr>\n",
              "    <tr>\n",
              "      <th>min</th>\n",
              "      <td>50.828499</td>\n",
              "      <td>52.374500</td>\n",
              "      <td>50.676800</td>\n",
              "      <td>50.803001</td>\n",
              "      <td>50.803001</td>\n",
              "      <td>6.936000e+06</td>\n",
              "    </tr>\n",
              "    <tr>\n",
              "      <th>25%</th>\n",
              "      <td>63.819749</td>\n",
              "      <td>64.681250</td>\n",
              "      <td>63.306939</td>\n",
              "      <td>64.126749</td>\n",
              "      <td>64.126749</td>\n",
              "      <td>2.185300e+07</td>\n",
              "    </tr>\n",
              "    <tr>\n",
              "      <th>50%</th>\n",
              "      <td>87.703251</td>\n",
              "      <td>88.661751</td>\n",
              "      <td>87.013001</td>\n",
              "      <td>87.677750</td>\n",
              "      <td>87.677750</td>\n",
              "      <td>2.708200e+07</td>\n",
              "    </tr>\n",
              "    <tr>\n",
              "      <th>75%</th>\n",
              "      <td>119.630247</td>\n",
              "      <td>120.939253</td>\n",
              "      <td>118.189751</td>\n",
              "      <td>119.650123</td>\n",
              "      <td>119.650123</td>\n",
              "      <td>3.416150e+07</td>\n",
              "    </tr>\n",
              "    <tr>\n",
              "      <th>max</th>\n",
              "      <td>151.863495</td>\n",
              "      <td>152.100006</td>\n",
              "      <td>149.887497</td>\n",
              "      <td>150.709000</td>\n",
              "      <td>150.709000</td>\n",
              "      <td>1.241400e+08</td>\n",
              "    </tr>\n",
              "  </tbody>\n",
              "</table>\n",
              "</div>\n",
              "      <button class=\"colab-df-convert\" onclick=\"convertToInteractive('df-6be8b107-af55-4567-a9e9-6a364c33ae1f')\"\n",
              "              title=\"Convert this dataframe to an interactive table.\"\n",
              "              style=\"display:none;\">\n",
              "        \n",
              "  <svg xmlns=\"http://www.w3.org/2000/svg\" height=\"24px\"viewBox=\"0 0 24 24\"\n",
              "       width=\"24px\">\n",
              "    <path d=\"M0 0h24v24H0V0z\" fill=\"none\"/>\n",
              "    <path d=\"M18.56 5.44l.94 2.06.94-2.06 2.06-.94-2.06-.94-.94-2.06-.94 2.06-2.06.94zm-11 1L8.5 8.5l.94-2.06 2.06-.94-2.06-.94L8.5 2.5l-.94 2.06-2.06.94zm10 10l.94 2.06.94-2.06 2.06-.94-2.06-.94-.94-2.06-.94 2.06-2.06.94z\"/><path d=\"M17.41 7.96l-1.37-1.37c-.4-.4-.92-.59-1.43-.59-.52 0-1.04.2-1.43.59L10.3 9.45l-7.72 7.72c-.78.78-.78 2.05 0 2.83L4 21.41c.39.39.9.59 1.41.59.51 0 1.02-.2 1.41-.59l7.78-7.78 2.81-2.81c.8-.78.8-2.07 0-2.86zM5.41 20L4 18.59l7.72-7.72 1.47 1.35L5.41 20z\"/>\n",
              "  </svg>\n",
              "      </button>\n",
              "      \n",
              "  <style>\n",
              "    .colab-df-container {\n",
              "      display:flex;\n",
              "      flex-wrap:wrap;\n",
              "      gap: 12px;\n",
              "    }\n",
              "\n",
              "    .colab-df-convert {\n",
              "      background-color: #E8F0FE;\n",
              "      border: none;\n",
              "      border-radius: 50%;\n",
              "      cursor: pointer;\n",
              "      display: none;\n",
              "      fill: #1967D2;\n",
              "      height: 32px;\n",
              "      padding: 0 0 0 0;\n",
              "      width: 32px;\n",
              "    }\n",
              "\n",
              "    .colab-df-convert:hover {\n",
              "      background-color: #E2EBFA;\n",
              "      box-shadow: 0px 1px 2px rgba(60, 64, 67, 0.3), 0px 1px 3px 1px rgba(60, 64, 67, 0.15);\n",
              "      fill: #174EA6;\n",
              "    }\n",
              "\n",
              "    [theme=dark] .colab-df-convert {\n",
              "      background-color: #3B4455;\n",
              "      fill: #D2E3FC;\n",
              "    }\n",
              "\n",
              "    [theme=dark] .colab-df-convert:hover {\n",
              "      background-color: #434B5C;\n",
              "      box-shadow: 0px 1px 3px 1px rgba(0, 0, 0, 0.15);\n",
              "      filter: drop-shadow(0px 1px 2px rgba(0, 0, 0, 0.3));\n",
              "      fill: #FFFFFF;\n",
              "    }\n",
              "  </style>\n",
              "\n",
              "      <script>\n",
              "        const buttonEl =\n",
              "          document.querySelector('#df-6be8b107-af55-4567-a9e9-6a364c33ae1f button.colab-df-convert');\n",
              "        buttonEl.style.display =\n",
              "          google.colab.kernel.accessAllowed ? 'block' : 'none';\n",
              "\n",
              "        async function convertToInteractive(key) {\n",
              "          const element = document.querySelector('#df-6be8b107-af55-4567-a9e9-6a364c33ae1f');\n",
              "          const dataTable =\n",
              "            await google.colab.kernel.invokeFunction('convertToInteractive',\n",
              "                                                     [key], {});\n",
              "          if (!dataTable) return;\n",
              "\n",
              "          const docLinkHtml = 'Like what you see? Visit the ' +\n",
              "            '<a target=\"_blank\" href=https://colab.research.google.com/notebooks/data_table.ipynb>data table notebook</a>'\n",
              "            + ' to learn more about interactive tables.';\n",
              "          element.innerHTML = '';\n",
              "          dataTable['output_type'] = 'display_data';\n",
              "          await google.colab.output.renderOutput(dataTable, element);\n",
              "          const docLink = document.createElement('div');\n",
              "          docLink.innerHTML = docLinkHtml;\n",
              "          element.appendChild(docLink);\n",
              "        }\n",
              "      </script>\n",
              "    </div>\n",
              "  </div>\n",
              "  "
            ]
          },
          "metadata": {},
          "execution_count": 5
        }
      ]
    },
    {
      "cell_type": "code",
      "source": [
        "df.info()"
      ],
      "metadata": {
        "colab": {
          "base_uri": "https://localhost:8080/"
        },
        "id": "p-lWQDVdkuhi",
        "outputId": "12f7bc19-2cbe-47d5-c78f-f1eba006fd10"
      },
      "execution_count": null,
      "outputs": [
        {
          "output_type": "stream",
          "name": "stdout",
          "text": [
            "<class 'pandas.core.frame.DataFrame'>\n",
            "Index: 980 entries, 2019-01-02 to 2022-11-18\n",
            "Data columns (total 6 columns):\n",
            " #   Column     Non-Null Count  Dtype  \n",
            "---  ------     --------------  -----  \n",
            " 0   Open       980 non-null    float64\n",
            " 1   High       980 non-null    float64\n",
            " 2   Low        980 non-null    float64\n",
            " 3   Close      980 non-null    float64\n",
            " 4   Adj Close  980 non-null    float64\n",
            " 5   Volume     980 non-null    int64  \n",
            "dtypes: float64(5), int64(1)\n",
            "memory usage: 53.6+ KB\n"
          ]
        }
      ]
    },
    {
      "cell_type": "markdown",
      "source": [
        "Vẽ biểu đồ thể hiện giá cao nhất và thấp nhất trong ngày"
      ],
      "metadata": {
        "id": "zDSImnrfvJQh"
      }
    },
    {
      "cell_type": "code",
      "source": [
        "import matplotlib.dates as mdates\n",
        "import matplotlib.pyplot as plt\n",
        "import datetime as dt\n",
        "\n",
        "plt.figure(figsize = (15,10))\n",
        "plt.gca().xaxis.set_major_formatter(mdates.DateFormatter('%Y-%m-%d'))\n",
        "plt.gca().xaxis.set_major_locator(mdates.DayLocator(interval = 60))\n",
        "x_dates = [dt.datetime.strptime(d,'%Y-%m-%d').date() for d in df.index.values]\n",
        "\n",
        "plt.plot(x_dates, df['High'], label='High')\n",
        "plt.plot(x_dates, df['Low'], label='Low')\n",
        "plt.xlabel('Time Scale')\n",
        "plt.ylabel('Scaled USD')\n",
        "plt.legend()\n",
        "plt.gcf().autofmt_xdate()\n",
        "plt.show()"
      ],
      "metadata": {
        "colab": {
          "base_uri": "https://localhost:8080/",
          "height": 579
        },
        "id": "RrnN9MWUkyGt",
        "outputId": "83a311fe-97e3-4c3f-9d6e-48b1e926060d"
      },
      "execution_count": null,
      "outputs": [
        {
          "output_type": "display_data",
          "data": {
            "text/plain": [
              "<Figure size 1080x720 with 1 Axes>"
            ],
            "image/png": "[encoded data removed]"
          },
          "metadata": {
            "needs_background": "light"
          }
        }
      ]
    },
    {
      "cell_type": "markdown",
      "source": [
        "- Biểu đồ giá mở của và đóng cửa"
      ],
      "metadata": {
        "id": "HlxrpxMnvWsY"
      }
    },
    {
      "cell_type": "code",
      "source": [
        "import matplotlib.dates as mdates\n",
        "import matplotlib.pyplot as plt\n",
        "import datetime as dt\n",
        "\n",
        "plt.figure(figsize = (15,10))\n",
        "plt.gca().xaxis.set_major_formatter(mdates.DateFormatter('%Y-%m-%d'))\n",
        "plt.gca().xaxis.set_major_locator(mdates.DayLocator(interval = 60))\n",
        "x_dates = [dt.datetime.strptime(d,'%Y-%m-%d').date() for d in df.index.values]\n",
        "\n",
        "plt.plot(x_dates, df['Open'], label='Open')\n",
        "plt.plot(x_dates, df['Close'], label='Close')\n",
        "plt.xlabel('Time Scale')\n",
        "plt.ylabel('Scaled USD')\n",
        "plt.legend()\n",
        "plt.gcf().autofmt_xdate()\n",
        "plt.show()"
      ],
      "metadata": {
        "colab": {
          "base_uri": "https://localhost:8080/",
          "height": 579
        },
        "id": "ThCopBcqk8Gz",
        "outputId": "f5bb0373-1b0b-485d-ee68-f092eb6f3226"
      },
      "execution_count": null,
      "outputs": [
        {
          "output_type": "display_data",
          "data": {
            "text/plain": [
              "<Figure size 1080x720 with 1 Axes>"
            ],
            "image/png": "[encoded data removed]"
          },
          "metadata": {
            "needs_background": "light"
          }
        }
      ]
    },
    {
      "cell_type": "code",
      "source": [
        "train_df = df.sort_values(by=['Date']).copy()\n",
        "\n",
        "# Danh sách các tính năng được xem xét\n",
        "FEATURES = ['High', 'Low', 'Open', 'Close', 'Volume'\n",
        "           ]\n",
        "\n",
        "print('FEATURE LIST')\n",
        "print([f for f in FEATURES])\n",
        "\n",
        "# tạo data với FEATURES\n",
        "data = pd.DataFrame(train_df)\n",
        "data_filtered = data[FEATURES]\n",
        "\n",
        "# We add a prediction column and set dummy values to prepare the data for scaling\n",
        "# them cot 'prediction' de du doan\n",
        "data_filtered_ext = data_filtered.copy()\n",
        "data_filtered_ext['Prediction'] = data_filtered_ext['Close']\n",
        "\n",
        "# Print the tail of the dataframe\n",
        "data_filtered_ext.tail()"
      ],
      "metadata": {
        "colab": {
          "base_uri": "https://localhost:8080/",
          "height": 273
        },
        "id": "jxbPprXHS0YB",
        "outputId": "3f2e9cf6-86a3-4ea0-e371-8d12fad971c1"
      },
      "execution_count": null,
      "outputs": [
        {
          "output_type": "stream",
          "name": "stdout",
          "text": [
            "FEATURE LIST\n",
            "['High', 'Low', 'Open', 'Close', 'Volume']\n"
          ]
        },
        {
          "output_type": "execute_result",
          "data": {
            "text/plain": [
              "                  High        Low       Open      Close    Volume  Prediction\n",
              "Date                                                                         \n",
              "2022-11-14   97.180000  95.112999  95.500000  96.029999  24170100   96.029999\n",
              "2022-11-15  100.419998  97.019997  98.669998  98.720001  31831000   98.720001\n",
              "2022-11-16   99.849998  97.902000  98.019997  98.989998  24660200   98.989998\n",
              "2022-11-17   99.480003  97.099998  97.180000  98.500000  21818700   98.500000\n",
              "2022-11-18   99.160004  96.739998  99.010002  97.800003  24959300   97.800003"
            ],
            "text/html": [
              "\n",
              "  <div id=\"df-4a79814a-fc3f-46a2-9c8f-b677fd66c453\">\n",
              "    <div class=\"colab-df-container\">\n",
              "      <div>\n",
              "<style scoped>\n",
              "    .dataframe tbody tr th:only-of-type {\n",
              "        vertical-align: middle;\n",
              "    }\n",
              "\n",
              "    .dataframe tbody tr th {\n",
              "        vertical-align: top;\n",
              "    }\n",
              "\n",
              "    .dataframe thead th {\n",
              "        text-align: right;\n",
              "    }\n",
              "</style>\n",
              "<table border=\"1\" class=\"dataframe\">\n",
              "  <thead>\n",
              "    <tr style=\"text-align: right;\">\n",
              "      <th></th>\n",
              "      <th>High</th>\n",
              "      <th>Low</th>\n",
              "      <th>Open</th>\n",
              "      <th>Close</th>\n",
              "      <th>Volume</th>\n",
              "      <th>Prediction</th>\n",
              "    </tr>\n",
              "    <tr>\n",
              "      <th>Date</th>\n",
              "      <th></th>\n",
              "      <th></th>\n",
              "      <th></th>\n",
              "      <th></th>\n",
              "      <th></th>\n",
              "      <th></th>\n",
              "    </tr>\n",
              "  </thead>\n",
              "  <tbody>\n",
              "    <tr>\n",
              "      <th>2022-11-14</th>\n",
              "      <td>97.180000</td>\n",
              "      <td>95.112999</td>\n",
              "      <td>95.500000</td>\n",
              "      <td>96.029999</td>\n",
              "      <td>24170100</td>\n",
              "      <td>96.029999</td>\n",
              "    </tr>\n",
              "    <tr>\n",
              "      <th>2022-11-15</th>\n",
              "      <td>100.419998</td>\n",
              "      <td>97.019997</td>\n",
              "      <td>98.669998</td>\n",
              "      <td>98.720001</td>\n",
              "      <td>31831000</td>\n",
              "      <td>98.720001</td>\n",
              "    </tr>\n",
              "    <tr>\n",
              "      <th>2022-11-16</th>\n",
              "      <td>99.849998</td>\n",
              "      <td>97.902000</td>\n",
              "      <td>98.019997</td>\n",
              "      <td>98.989998</td>\n",
              "      <td>24660200</td>\n",
              "      <td>98.989998</td>\n",
              "    </tr>\n",
              "    <tr>\n",
              "      <th>2022-11-17</th>\n",
              "      <td>99.480003</td>\n",
              "      <td>97.099998</td>\n",
              "      <td>97.180000</td>\n",
              "      <td>98.500000</td>\n",
              "      <td>21818700</td>\n",
              "      <td>98.500000</td>\n",
              "    </tr>\n",
              "    <tr>\n",
              "      <th>2022-11-18</th>\n",
              "      <td>99.160004</td>\n",
              "      <td>96.739998</td>\n",
              "      <td>99.010002</td>\n",
              "      <td>97.800003</td>\n",
              "      <td>24959300</td>\n",
              "      <td>97.800003</td>\n",
              "    </tr>\n",
              "  </tbody>\n",
              "</table>\n",
              "</div>\n",
              "      <button class=\"colab-df-convert\" onclick=\"convertToInteractive('df-4a79814a-fc3f-46a2-9c8f-b677fd66c453')\"\n",
              "              title=\"Convert this dataframe to an interactive table.\"\n",
              "              style=\"display:none;\">\n",
              "        \n",
              "  <svg xmlns=\"http://www.w3.org/2000/svg\" height=\"24px\"viewBox=\"0 0 24 24\"\n",
              "       width=\"24px\">\n",
              "    <path d=\"M0 0h24v24H0V0z\" fill=\"none\"/>\n",
              "    <path d=\"M18.56 5.44l.94 2.06.94-2.06 2.06-.94-2.06-.94-.94-2.06-.94 2.06-2.06.94zm-11 1L8.5 8.5l.94-2.06 2.06-.94-2.06-.94L8.5 2.5l-.94 2.06-2.06.94zm10 10l.94 2.06.94-2.06 2.06-.94-2.06-.94-.94-2.06-.94 2.06-2.06.94z\"/><path d=\"M17.41 7.96l-1.37-1.37c-.4-.4-.92-.59-1.43-.59-.52 0-1.04.2-1.43.59L10.3 9.45l-7.72 7.72c-.78.78-.78 2.05 0 2.83L4 21.41c.39.39.9.59 1.41.59.51 0 1.02-.2 1.41-.59l7.78-7.78 2.81-2.81c.8-.78.8-2.07 0-2.86zM5.41 20L4 18.59l7.72-7.72 1.47 1.35L5.41 20z\"/>\n",
              "  </svg>\n",
              "      </button>\n",
              "      \n",
              "  <style>\n",
              "    .colab-df-container {\n",
              "      display:flex;\n",
              "      flex-wrap:wrap;\n",
              "      gap: 12px;\n",
              "    }\n",
              "\n",
              "    .colab-df-convert {\n",
              "      background-color: #E8F0FE;\n",
              "      border: none;\n",
              "      border-radius: 50%;\n",
              "      cursor: pointer;\n",
              "      display: none;\n",
              "      fill: #1967D2;\n",
              "      height: 32px;\n",
              "      padding: 0 0 0 0;\n",
              "      width: 32px;\n",
              "    }\n",
              "\n",
              "    .colab-df-convert:hover {\n",
              "      background-color: #E2EBFA;\n",
              "      box-shadow: 0px 1px 2px rgba(60, 64, 67, 0.3), 0px 1px 3px 1px rgba(60, 64, 67, 0.15);\n",
              "      fill: #174EA6;\n",
              "    }\n",
              "\n",
              "    [theme=dark] .colab-df-convert {\n",
              "      background-color: #3B4455;\n",
              "      fill: #D2E3FC;\n",
              "    }\n",
              "\n",
              "    [theme=dark] .colab-df-convert:hover {\n",
              "      background-color: #434B5C;\n",
              "      box-shadow: 0px 1px 3px 1px rgba(0, 0, 0, 0.15);\n",
              "      filter: drop-shadow(0px 1px 2px rgba(0, 0, 0, 0.3));\n",
              "      fill: #FFFFFF;\n",
              "    }\n",
              "  </style>\n",
              "\n",
              "      <script>\n",
              "        const buttonEl =\n",
              "          document.querySelector('#df-4a79814a-fc3f-46a2-9c8f-b677fd66c453 button.colab-df-convert');\n",
              "        buttonEl.style.display =\n",
              "          google.colab.kernel.accessAllowed ? 'block' : 'none';\n",
              "\n",
              "        async function convertToInteractive(key) {\n",
              "          const element = document.querySelector('#df-4a79814a-fc3f-46a2-9c8f-b677fd66c453');\n",
              "          const dataTable =\n",
              "            await google.colab.kernel.invokeFunction('convertToInteractive',\n",
              "                                                     [key], {});\n",
              "          if (!dataTable) return;\n",
              "\n",
              "          const docLinkHtml = 'Like what you see? Visit the ' +\n",
              "            '<a target=\"_blank\" href=https://colab.research.google.com/notebooks/data_table.ipynb>data table notebook</a>'\n",
              "            + ' to learn more about interactive tables.';\n",
              "          element.innerHTML = '';\n",
              "          dataTable['output_type'] = 'display_data';\n",
              "          await google.colab.output.renderOutput(dataTable, element);\n",
              "          const docLink = document.createElement('div');\n",
              "          docLink.innerHTML = docLinkHtml;\n",
              "          element.appendChild(docLink);\n",
              "        }\n",
              "      </script>\n",
              "    </div>\n",
              "  </div>\n",
              "  "
            ]
          },
          "metadata": {},
          "execution_count": 9
        }
      ]
    },
    {
      "cell_type": "code",
      "source": [
        "data_filtered"
      ],
      "metadata": {
        "colab": {
          "base_uri": "https://localhost:8080/",
          "height": 455
        },
        "id": "sdiWZO10aL69",
        "outputId": "02f8e82b-2210-4c57-e1cc-f2c1cdda8da9"
      },
      "execution_count": null,
      "outputs": [
        {
          "output_type": "execute_result",
          "data": {
            "text/plain": [
              "                  High        Low       Open      Close    Volume\n",
              "Date                                                             \n",
              "2019-01-02   52.616001  50.785500  50.828499  52.292500  30652000\n",
              "2019-01-03   52.848999  50.703499  52.049999  50.803001  36822000\n",
              "2019-01-04   53.542000  51.370899  51.629501  53.535500  41878000\n",
              "2019-01-07   53.700001  52.737999  53.575001  53.419498  39638000\n",
              "2019-01-08   54.228001  53.026501  53.805500  53.813999  35298000\n",
              "...                ...        ...        ...        ...       ...\n",
              "2022-11-14   97.180000  95.112999  95.500000  96.029999  24170100\n",
              "2022-11-15  100.419998  97.019997  98.669998  98.720001  31831000\n",
              "2022-11-16   99.849998  97.902000  98.019997  98.989998  24660200\n",
              "2022-11-17   99.480003  97.099998  97.180000  98.500000  21818700\n",
              "2022-11-18   99.160004  96.739998  99.010002  97.800003  24959300\n",
              "\n",
              "[980 rows x 5 columns]"
            ],
            "text/html": [
              "\n",
              "  <div id=\"df-e099de40-7723-4427-9b36-20a902108996\">\n",
              "    <div class=\"colab-df-container\">\n",
              "      <div>\n",
              "<style scoped>\n",
              "    .dataframe tbody tr th:only-of-type {\n",
              "        vertical-align: middle;\n",
              "    }\n",
              "\n",
              "    .dataframe tbody tr th {\n",
              "        vertical-align: top;\n",
              "    }\n",
              "\n",
              "    .dataframe thead th {\n",
              "        text-align: right;\n",
              "    }\n",
              "</style>\n",
              "<table border=\"1\" class=\"dataframe\">\n",
              "  <thead>\n",
              "    <tr style=\"text-align: right;\">\n",
              "      <th></th>\n",
              "      <th>High</th>\n",
              "      <th>Low</th>\n",
              "      <th>Open</th>\n",
              "      <th>Close</th>\n",
              "      <th>Volume</th>\n",
              "    </tr>\n",
              "    <tr>\n",
              "      <th>Date</th>\n",
              "      <th></th>\n",
              "      <th></th>\n",
              "      <th></th>\n",
              "      <th></th>\n",
              "      <th></th>\n",
              "    </tr>\n",
              "  </thead>\n",
              "  <tbody>\n",
              "    <tr>\n",
              "      <th>2019-01-02</th>\n",
              "      <td>52.616001</td>\n",
              "      <td>50.785500</td>\n",
              "      <td>50.828499</td>\n",
              "      <td>52.292500</td>\n",
              "      <td>30652000</td>\n",
              "    </tr>\n",
              "    <tr>\n",
              "      <th>2019-01-03</th>\n",
              "      <td>52.848999</td>\n",
              "      <td>50.703499</td>\n",
              "      <td>52.049999</td>\n",
              "      <td>50.803001</td>\n",
              "      <td>36822000</td>\n",
              "    </tr>\n",
              "    <tr>\n",
              "      <th>2019-01-04</th>\n",
              "      <td>53.542000</td>\n",
              "      <td>51.370899</td>\n",
              "      <td>51.629501</td>\n",
              "      <td>53.535500</td>\n",
              "      <td>41878000</td>\n",
              "    </tr>\n",
              "    <tr>\n",
              "      <th>2019-01-07</th>\n",
              "      <td>53.700001</td>\n",
              "      <td>52.737999</td>\n",
              "      <td>53.575001</td>\n",
              "      <td>53.419498</td>\n",
              "      <td>39638000</td>\n",
              "    </tr>\n",
              "    <tr>\n",
              "      <th>2019-01-08</th>\n",
              "      <td>54.228001</td>\n",
              "      <td>53.026501</td>\n",
              "      <td>53.805500</td>\n",
              "      <td>53.813999</td>\n",
              "      <td>35298000</td>\n",
              "    </tr>\n",
              "    <tr>\n",
              "      <th>...</th>\n",
              "      <td>...</td>\n",
              "      <td>...</td>\n",
              "      <td>...</td>\n",
              "      <td>...</td>\n",
              "      <td>...</td>\n",
              "    </tr>\n",
              "    <tr>\n",
              "      <th>2022-11-14</th>\n",
              "      <td>97.180000</td>\n",
              "      <td>95.112999</td>\n",
              "      <td>95.500000</td>\n",
              "      <td>96.029999</td>\n",
              "      <td>24170100</td>\n",
              "    </tr>\n",
              "    <tr>\n",
              "      <th>2022-11-15</th>\n",
              "      <td>100.419998</td>\n",
              "      <td>97.019997</td>\n",
              "      <td>98.669998</td>\n",
              "      <td>98.720001</td>\n",
              "      <td>31831000</td>\n",
              "    </tr>\n",
              "    <tr>\n",
              "      <th>2022-11-16</th>\n",
              "      <td>99.849998</td>\n",
              "      <td>97.902000</td>\n",
              "      <td>98.019997</td>\n",
              "      <td>98.989998</td>\n",
              "      <td>24660200</td>\n",
              "    </tr>\n",
              "    <tr>\n",
              "      <th>2022-11-17</th>\n",
              "      <td>99.480003</td>\n",
              "      <td>97.099998</td>\n",
              "      <td>97.180000</td>\n",
              "      <td>98.500000</td>\n",
              "      <td>21818700</td>\n",
              "    </tr>\n",
              "    <tr>\n",
              "      <th>2022-11-18</th>\n",
              "      <td>99.160004</td>\n",
              "      <td>96.739998</td>\n",
              "      <td>99.010002</td>\n",
              "      <td>97.800003</td>\n",
              "      <td>24959300</td>\n",
              "    </tr>\n",
              "  </tbody>\n",
              "</table>\n",
              "<p>980 rows × 5 columns</p>\n",
              "</div>\n",
              "      <button class=\"colab-df-convert\" onclick=\"convertToInteractive('df-e099de40-7723-4427-9b36-20a902108996')\"\n",
              "              title=\"Convert this dataframe to an interactive table.\"\n",
              "              style=\"display:none;\">\n",
              "        \n",
              "  <svg xmlns=\"http://www.w3.org/2000/svg\" height=\"24px\"viewBox=\"0 0 24 24\"\n",
              "       width=\"24px\">\n",
              "    <path d=\"M0 0h24v24H0V0z\" fill=\"none\"/>\n",
              "    <path d=\"M18.56 5.44l.94 2.06.94-2.06 2.06-.94-2.06-.94-.94-2.06-.94 2.06-2.06.94zm-11 1L8.5 8.5l.94-2.06 2.06-.94-2.06-.94L8.5 2.5l-.94 2.06-2.06.94zm10 10l.94 2.06.94-2.06 2.06-.94-2.06-.94-.94-2.06-.94 2.06-2.06.94z\"/><path d=\"M17.41 7.96l-1.37-1.37c-.4-.4-.92-.59-1.43-.59-.52 0-1.04.2-1.43.59L10.3 9.45l-7.72 7.72c-.78.78-.78 2.05 0 2.83L4 21.41c.39.39.9.59 1.41.59.51 0 1.02-.2 1.41-.59l7.78-7.78 2.81-2.81c.8-.78.8-2.07 0-2.86zM5.41 20L4 18.59l7.72-7.72 1.47 1.35L5.41 20z\"/>\n",
              "  </svg>\n",
              "      </button>\n",
              "      \n",
              "  <style>\n",
              "    .colab-df-container {\n",
              "      display:flex;\n",
              "      flex-wrap:wrap;\n",
              "      gap: 12px;\n",
              "    }\n",
              "\n",
              "    .colab-df-convert {\n",
              "      background-color: #E8F0FE;\n",
              "      border: none;\n",
              "      border-radius: 50%;\n",
              "      cursor: pointer;\n",
              "      display: none;\n",
              "      fill: #1967D2;\n",
              "      height: 32px;\n",
              "      padding: 0 0 0 0;\n",
              "      width: 32px;\n",
              "    }\n",
              "\n",
              "    .colab-df-convert:hover {\n",
              "      background-color: #E2EBFA;\n",
              "      box-shadow: 0px 1px 2px rgba(60, 64, 67, 0.3), 0px 1px 3px 1px rgba(60, 64, 67, 0.15);\n",
              "      fill: #174EA6;\n",
              "    }\n",
              "\n",
              "    [theme=dark] .colab-df-convert {\n",
              "      background-color: #3B4455;\n",
              "      fill: #D2E3FC;\n",
              "    }\n",
              "\n",
              "    [theme=dark] .colab-df-convert:hover {\n",
              "      background-color: #434B5C;\n",
              "      box-shadow: 0px 1px 3px 1px rgba(0, 0, 0, 0.15);\n",
              "      filter: drop-shadow(0px 1px 2px rgba(0, 0, 0, 0.3));\n",
              "      fill: #FFFFFF;\n",
              "    }\n",
              "  </style>\n",
              "\n",
              "      <script>\n",
              "        const buttonEl =\n",
              "          document.querySelector('#df-e099de40-7723-4427-9b36-20a902108996 button.colab-df-convert');\n",
              "        buttonEl.style.display =\n",
              "          google.colab.kernel.accessAllowed ? 'block' : 'none';\n",
              "\n",
              "        async function convertToInteractive(key) {\n",
              "          const element = document.querySelector('#df-e099de40-7723-4427-9b36-20a902108996');\n",
              "          const dataTable =\n",
              "            await google.colab.kernel.invokeFunction('convertToInteractive',\n",
              "                                                     [key], {});\n",
              "          if (!dataTable) return;\n",
              "\n",
              "          const docLinkHtml = 'Like what you see? Visit the ' +\n",
              "            '<a target=\"_blank\" href=https://colab.research.google.com/notebooks/data_table.ipynb>data table notebook</a>'\n",
              "            + ' to learn more about interactive tables.';\n",
              "          element.innerHTML = '';\n",
              "          dataTable['output_type'] = 'display_data';\n",
              "          await google.colab.output.renderOutput(dataTable, element);\n",
              "          const docLink = document.createElement('div');\n",
              "          docLink.innerHTML = docLinkHtml;\n",
              "          element.appendChild(docLink);\n",
              "        }\n",
              "      </script>\n",
              "    </div>\n",
              "  </div>\n",
              "  "
            ]
          },
          "metadata": {},
          "execution_count": 10
        }
      ]
    },
    {
      "cell_type": "markdown",
      "source": [
        "- Các biến đầu vào là các biến đưa vào mạng neuron để dự đoán.\n",
        "\n",
        "- Một nguyên tắc chung là các biến đầu vào phải có giá trị nhỏ, có thể nằm trong khoảng 0-1 hoặc được chuẩn hóa với giá trị trung bình bằng 0 và độ lệch chuẩn (standard deviation) bằng 1. Các biến đầu vào có cần phải scaling hay không phụ thuộc vào từng bài toán cụ thể và từng biến cụ thể."
      ],
      "metadata": {
        "id": "kI1LWUkkFF2A"
      }
    },
    {
      "cell_type": "code",
      "source": [
        "import numpy as np\n",
        "from sklearn.preprocessing import MinMaxScaler\n",
        "\n",
        "# Get the number of rows in the data\n",
        "nrows = data_filtered.shape[0]\n",
        "\n",
        "# Convert the data to numpy values\n",
        "np_data_unscaled = np.array(data_filtered)\n",
        "np_data = np.reshape(np_data_unscaled, (nrows, -1))\n",
        "print(np_data.shape)\n",
        "\n",
        "# transfrom data by scaling (0,1)\n",
        "scaler = MinMaxScaler()\n",
        "np_data_scaled = scaler.fit_transform(np_data_unscaled)\n",
        "\n",
        "# Creating a separate scaler that works on a single column for scaling predictions\n",
        "scaler_pred = MinMaxScaler()\n",
        "df_Close = pd.DataFrame(data_filtered_ext['Close'])\n",
        "np_Close_scaled = scaler_pred.fit_transform(df_Close)"
      ],
      "metadata": {
        "colab": {
          "base_uri": "https://localhost:8080/"
        },
        "id": "c1u2_e8yTP1E",
        "outputId": "07ba3715-47ee-4399-b015-b723041e4ac7"
      },
      "execution_count": null,
      "outputs": [
        {
          "output_type": "stream",
          "name": "stdout",
          "text": [
            "(980, 5)\n"
          ]
        }
      ]
    },
    {
      "cell_type": "markdown",
      "source": [
        "# xử lý đầu vào dữ liệu với 5 feature, dùng 50 dữ liệu dự đoán"
      ],
      "metadata": {
        "id": "cs2vpuHp2vok"
      }
    },
    {
      "cell_type": "code",
      "source": [
        "import math\n",
        "\n",
        "# Đặt độ dài chuỗi - đây là khung thời gian được sử dụng để đưa ra một dự đoán\n",
        "sequence_length = 50\n",
        "\n",
        "# Chỉ số dự đoán\n",
        "\n",
        "index_Close = data.columns.get_loc(\"Close\")\n",
        "\n",
        "# Tách dữ liệu đào tạo thành tập dữ liệu đào tạo và đào tạo \n",
        "# Bước đầu tiên, chúng tôi lấy số hàng để huấn luyện mô hình trên 80% dữ liệu\n",
        "\n",
        "train_data_len = math.ceil(np_data_scaled.shape[0] * 0.8)\n",
        "print(train_data_len)\n",
        "\n",
        "# Create the training and test data\n",
        "train_data = np_data_scaled[0:train_data_len, :]\n",
        "\n",
        "# print(train_data)\n",
        "test_data = np_data_scaled[train_data_len - sequence_length:, :]\n",
        "# print(\"-------\",test_data)\n",
        "\n",
        "# RNN [samples, time steps, features]\n",
        "# create N samples, sequence_length time steps per sample, and 6 features\n",
        "\n",
        "def partition_dataset(sequence_length, data):\n",
        "    x, y = [], []\n",
        "    data_len = data.shape[0]\n",
        "    for i in range(sequence_length, data_len):\n",
        "        x.append(data[i-sequence_length:i,:]) #contains sequence_length values 0-sequence_length * columsn\n",
        "        # print(x)\n",
        "        y.append(data[i, index_Close]) #contains the prediction values for validation,  for single-step prediction\n",
        "    \n",
        "    x = np.array(x)\n",
        "    y = np.array(y)\n",
        "    return x, y\n",
        "\n",
        "# Generate training&test\n",
        "x_train, y_train = partition_dataset(sequence_length, train_data)\n",
        "x_test, y_test = partition_dataset(sequence_length, test_data)\n",
        "\n",
        "print(x_train.shape, y_train.shape)\n",
        "print(\"---\")\n",
        "print(x_test.shape, y_test.shape)\n",
        "\n",
        "print(x_train[1][sequence_length-1][index_Close])\n",
        "print(y_train[0])\n"
      ],
      "metadata": {
        "id": "4pmQcnJfaEA-",
        "colab": {
          "base_uri": "https://localhost:8080/"
        },
        "outputId": "27b51aa5-6d5d-4d81-fc61-c2d4d3e14f93"
      },
      "execution_count": null,
      "outputs": [
        {
          "output_type": "stream",
          "name": "stdout",
          "text": [
            "784\n",
            "(734, 50, 5) (734,)\n",
            "---\n",
            "(196, 50, 5) (196,)\n",
            "0.08427921330329724\n",
            "0.08427921330329724\n"
          ]
        }
      ]
    },
    {
      "cell_type": "code",
      "source": [
        "from tensorflow.keras.models import Sequential\n",
        "from tensorflow.keras.layers import Dense\n",
        "from tensorflow.keras.layers import LSTM\n",
        "from tensorflow.keras.layers import SimpleRNN\n",
        "from tensorflow.keras.layers import Dropout\n",
        "import time"
      ],
      "metadata": {
        "id": "i0xrCN5iy_42"
      },
      "execution_count": null,
      "outputs": []
    },
    {
      "cell_type": "markdown",
      "source": [
        "# RNN model\n",
        "1. Create Model\n",
        "2. Compile Model\n",
        "3. Fit the model"
      ],
      "metadata": {
        "id": "9G7x_nvG0jCM"
      }
    },
    {
      "cell_type": "code",
      "source": [
        "# # Configure the neural network model_rnn\n",
        "# model_rnn = Sequential()\n",
        "\n",
        "# # model_rnn with n_neurons = inputshape Timestamps, each with x_train.shape[2] variables\n",
        "# n_neurons = x_train.shape[1] * x_train.shape[2]\n",
        "# print(n_neurons, x_train.shape[1], x_train.shape[2])\n",
        "# model_rnn.add(LSTM(n_neurons, return_sequences=True, input_shape=(x_train.shape[1], x_train.shape[2]))) \n",
        "# model_rnn.add(LSTM(n_neurons, return_sequences=False))\n",
        "# model_rnn.add(Dense(5))\n",
        "# model_rnn.add(Dense(1))\n",
        "\n",
        "# # Compile the model_rnn\n",
        "# model_rnn.compile(optimizer='adam', loss='mse')"
      ],
      "metadata": {
        "id": "WuNkOMdbI0pp"
      },
      "execution_count": null,
      "outputs": []
    },
    {
      "cell_type": "code",
      "source": [
        "# # Build the LSTM model\n",
        "\n",
        "# model_rnn = Sequential()\n",
        "\n",
        "# # Model with n_neurons = inputshape Timestamps, each with x_train.shape[2] variables\n",
        "# # n_neurons = x_train.shape[1] * x_train.shape[2]\n",
        "\n",
        "# model_rnn.add(LSTM(128, return_sequences=True, input_shape= (x_train.shape[1], x_train.shape[2])))\n",
        "# model_rnn.add(LSTM(64, return_sequences=False))\n",
        "# model_rnn.add(Dense(25))\n",
        "# model_rnn.add(Dense(1))\n",
        "\n",
        "# # Compile the model\n",
        "# model_rnn.compile(optimizer='adam', loss='mean_squared_error')"
      ],
      "metadata": {
        "id": "gI0_6L4_0in5"
      },
      "execution_count": null,
      "outputs": []
    },
    {
      "cell_type": "code",
      "source": [
        "# Configure the neural network model_rnn\n",
        "model_rnn = Sequential()\n",
        "\n",
        "\n",
        "\n",
        "# model_rnn with n_neurons = inputshape Timestamps, each with x_train.shape[2] variables\n",
        "n_neurons = x_train.shape[1] * x_train.shape[2]\n",
        "\n",
        "\n",
        "model_rnn.add(SimpleRNN(n_neurons, return_sequences = True, input_shape = (x_train.shape[1], x_train.shape[2])))\n",
        "model_rnn.add(SimpleRNN(n_neurons, return_sequences = False))\n",
        "\n",
        "model_rnn.add(Dense(5))\n",
        "model_rnn.add(Dense(1))\n",
        "\n",
        "model_rnn.compile(optimizer='adam', loss='mse')\n"
      ],
      "metadata": {
        "id": "JmnlCvrA1sY9"
      },
      "execution_count": null,
      "outputs": []
    },
    {
      "cell_type": "markdown",
      "source": [
        "- fit model"
      ],
      "metadata": {
        "id": "J1bCxIYR2iFM"
      }
    },
    {
      "cell_type": "code",
      "source": [
        "epochs = 50\n",
        "batch_size = 16\n",
        "\n",
        "#testing Time\n",
        "StartTime=time.time()\n",
        "history = model_rnn.fit(x_train, y_train, \n",
        "                    batch_size=batch_size, \n",
        "                    epochs=epochs,\n",
        "                    validation_data=(x_test, y_test)\n",
        "                   )\n",
        "EndTime=time.time()\n",
        "\n",
        "print(\"############### Total Time Taken: \", EndTime-StartTime, 's #############')\n",
        "\n",
        "# model_rnn.fit(x_train,y_train,epochs = 5, batch_size = 32)"
      ],
      "metadata": {
        "id": "QGzeP-NM1kN0",
        "colab": {
          "base_uri": "https://localhost:8080/"
        },
        "outputId": "63b5638a-80a0-4bb8-a5e6-e51dd1f2ab19"
      },
      "execution_count": null,
      "outputs": [
        {
          "output_type": "stream",
          "name": "stdout",
          "text": [
            "Epoch 1/50\n",
            "46/46 [==============================] - 6s 81ms/step - loss: 0.3871 - val_loss: 0.0154\n",
            "Epoch 2/50\n",
            "46/46 [==============================] - 3s 74ms/step - loss: 0.0080 - val_loss: 0.0016\n",
            "Epoch 3/50\n",
            "46/46 [==============================] - 3s 74ms/step - loss: 0.0070 - val_loss: 0.0094\n",
            "Epoch 4/50\n",
            "46/46 [==============================] - 4s 88ms/step - loss: 0.0097 - val_loss: 0.0015\n",
            "Epoch 5/50\n",
            "46/46 [==============================] - 6s 141ms/step - loss: 0.0058 - val_loss: 0.0019\n",
            "Epoch 6/50\n",
            "46/46 [==============================] - 4s 90ms/step - loss: 0.0019 - val_loss: 0.0022\n",
            "Epoch 7/50\n",
            "46/46 [==============================] - 3s 72ms/step - loss: 0.0017 - val_loss: 0.0025\n",
            "Epoch 8/50\n",
            "46/46 [==============================] - 3s 73ms/step - loss: 0.0018 - val_loss: 0.0037\n",
            "Epoch 9/50\n",
            "46/46 [==============================] - 3s 72ms/step - loss: 0.0030 - val_loss: 0.0013\n",
            "Epoch 10/50\n",
            "46/46 [==============================] - 3s 71ms/step - loss: 0.0013 - val_loss: 0.0013\n",
            "Epoch 11/50\n",
            "46/46 [==============================] - 3s 71ms/step - loss: 0.0048 - val_loss: 0.0036\n",
            "Epoch 12/50\n",
            "46/46 [==============================] - 3s 72ms/step - loss: 0.0032 - val_loss: 0.0023\n",
            "Epoch 13/50\n",
            "46/46 [==============================] - 3s 71ms/step - loss: 0.0064 - val_loss: 0.0017\n",
            "Epoch 14/50\n",
            "46/46 [==============================] - 4s 96ms/step - loss: 0.0034 - val_loss: 0.0029\n",
            "Epoch 15/50\n",
            "46/46 [==============================] - 4s 89ms/step - loss: 0.0016 - val_loss: 0.0024\n",
            "Epoch 16/50\n",
            "46/46 [==============================] - 3s 71ms/step - loss: 0.0023 - val_loss: 0.0016\n",
            "Epoch 17/50\n",
            "46/46 [==============================] - 3s 72ms/step - loss: 0.0020 - val_loss: 0.0030\n",
            "Epoch 18/50\n",
            "46/46 [==============================] - 3s 71ms/step - loss: 0.0021 - val_loss: 0.0012\n",
            "Epoch 19/50\n",
            "46/46 [==============================] - 3s 71ms/step - loss: 0.0030 - val_loss: 0.0011\n",
            "Epoch 20/50\n",
            "46/46 [==============================] - 3s 73ms/step - loss: 0.0027 - val_loss: 0.0020\n",
            "Epoch 21/50\n",
            "46/46 [==============================] - 3s 72ms/step - loss: 0.0023 - val_loss: 0.0015\n",
            "Epoch 22/50\n",
            "46/46 [==============================] - 3s 73ms/step - loss: 0.0028 - val_loss: 0.0015\n",
            "Epoch 23/50\n",
            "46/46 [==============================] - 3s 73ms/step - loss: 0.0020 - val_loss: 0.0018\n",
            "Epoch 24/50\n",
            "46/46 [==============================] - 3s 72ms/step - loss: 0.0010 - val_loss: 0.0017\n",
            "Epoch 25/50\n",
            "46/46 [==============================] - 3s 71ms/step - loss: 0.0043 - val_loss: 0.0023\n",
            "Epoch 26/50\n",
            "46/46 [==============================] - 3s 74ms/step - loss: 0.0035 - val_loss: 0.0014\n",
            "Epoch 27/50\n",
            "46/46 [==============================] - 3s 71ms/step - loss: 0.0019 - val_loss: 0.0012\n",
            "Epoch 28/50\n",
            "46/46 [==============================] - 3s 71ms/step - loss: 0.0010 - val_loss: 0.0069\n",
            "Epoch 29/50\n",
            "46/46 [==============================] - 3s 72ms/step - loss: 0.0025 - val_loss: 0.0011\n",
            "Epoch 30/50\n",
            "46/46 [==============================] - 3s 71ms/step - loss: 0.0031 - val_loss: 0.0011\n",
            "Epoch 31/50\n",
            "46/46 [==============================] - 3s 72ms/step - loss: 0.0014 - val_loss: 0.0044\n",
            "Epoch 32/50\n",
            "46/46 [==============================] - 3s 71ms/step - loss: 7.5148e-04 - val_loss: 0.0014\n",
            "Epoch 33/50\n",
            "46/46 [==============================] - 3s 72ms/step - loss: 0.0015 - val_loss: 0.0023\n",
            "Epoch 34/50\n",
            "46/46 [==============================] - 6s 128ms/step - loss: 0.0052 - val_loss: 0.0041\n",
            "Epoch 35/50\n",
            "46/46 [==============================] - 3s 72ms/step - loss: 0.0029 - val_loss: 0.0097\n",
            "Epoch 36/50\n",
            "46/46 [==============================] - 3s 72ms/step - loss: 0.0053 - val_loss: 0.0023\n",
            "Epoch 37/50\n",
            "46/46 [==============================] - 3s 73ms/step - loss: 0.0010 - val_loss: 0.0011\n",
            "Epoch 38/50\n",
            "46/46 [==============================] - 3s 71ms/step - loss: 9.7268e-04 - val_loss: 0.0023\n",
            "Epoch 39/50\n",
            "46/46 [==============================] - 3s 71ms/step - loss: 0.0023 - val_loss: 0.0010\n",
            "Epoch 40/50\n",
            "46/46 [==============================] - 3s 71ms/step - loss: 0.0018 - val_loss: 0.0013\n",
            "Epoch 41/50\n",
            "46/46 [==============================] - 3s 73ms/step - loss: 8.6530e-04 - val_loss: 0.0029\n",
            "Epoch 42/50\n",
            "46/46 [==============================] - 3s 71ms/step - loss: 0.0013 - val_loss: 0.0027\n",
            "Epoch 43/50\n",
            "46/46 [==============================] - 3s 71ms/step - loss: 0.0024 - val_loss: 0.0010\n",
            "Epoch 44/50\n",
            "46/46 [==============================] - 3s 71ms/step - loss: 9.2408e-04 - val_loss: 0.0028\n",
            "Epoch 45/50\n",
            "46/46 [==============================] - 3s 71ms/step - loss: 0.0017 - val_loss: 0.0015\n",
            "Epoch 46/50\n",
            "46/46 [==============================] - 3s 71ms/step - loss: 0.0027 - val_loss: 0.0058\n",
            "Epoch 47/50\n",
            "46/46 [==============================] - 3s 71ms/step - loss: 0.0056 - val_loss: 0.0012\n",
            "Epoch 48/50\n",
            "46/46 [==============================] - 3s 72ms/step - loss: 9.4322e-04 - val_loss: 9.5775e-04\n",
            "Epoch 49/50\n",
            "46/46 [==============================] - 3s 71ms/step - loss: 0.0016 - val_loss: 0.0013\n",
            "Epoch 50/50\n",
            "46/46 [==============================] - 3s 71ms/step - loss: 0.0014 - val_loss: 0.0059\n",
            "############### Total Time Taken:  203.9213035106659 s #############\n"
          ]
        }
      ]
    },
    {
      "cell_type": "markdown",
      "source": [
        "Biểu đồ độ loss"
      ],
      "metadata": {
        "id": "To7NxfEi2D4X"
      }
    },
    {
      "cell_type": "code",
      "source": [
        "# Plot training & validation loss values\n",
        "fig, ax = plt.subplots(figsize=(16, 5), sharex=True)\n",
        "sns.lineplot(data=history.history[\"loss\"])\n",
        "plt.title(\"Model loss\")\n",
        "plt.ylabel(\"Loss\")\n",
        "plt.xlabel(\"Epoch\")\n",
        "ax.xaxis.set_major_locator(plt.MaxNLocator(epochs))\n",
        "plt.legend([\"Train\", \"Test\"], loc=\"upper left\")\n",
        "plt.grid()\n",
        "plt.show()"
      ],
      "metadata": {
        "colab": {
          "base_uri": "https://localhost:8080/"
        },
        "id": "mAMB-SEJ2zrQ",
        "outputId": "a5d93c34-825e-4a3a-d46a-aef89d40c80b"
      },
      "execution_count": null,
      "outputs": [
        {
          "output_type": "display_data",
          "data": {
            "text/plain": [
              "<Figure size 1152x360 with 1 Axes>"
            ],
            "image/png": "[encoded data removed]"
          },
          "metadata": {
            "needs_background": "light"
          }
        }
      ]
    },
    {
      "cell_type": "markdown",
      "source": [
        "- Đo độ chính xác model."
      ],
      "metadata": {
        "id": "2xeBLZOB3B5Y"
      }
    },
    {
      "cell_type": "code",
      "source": [
        "from sklearn.metrics import accuracy_score\n",
        "\n",
        "# Get the predicted values\n",
        "StartTime=time.time()\n",
        "y_pred_scaled = model_rnn.predict(x_test)\n",
        "EndTime=time.time()\n",
        "\n",
        "print(\"############### Total Time Taken: \",EndTime-StartTime, 's #############')\n",
        "\n",
        "# Unscale the predicted values\n",
        "y_pred = scaler_pred.inverse_transform(y_pred_scaled)\n",
        "y_test_unscaled = scaler_pred.inverse_transform(y_test.reshape(-1, 1))\n",
        "\n",
        "#Acurracy score\n",
        "# print(y_test_unscaled)\n",
        "# print(y_pred)\n",
        "\n",
        "# Mean Absolute Error (MAE)\n",
        "MAE = mean_absolute_error(y_test_unscaled, y_pred)\n",
        "print(f'Median Absolute Error (MAE): {np.round(MAE, 2)}')\n",
        "\n",
        "# Mean Absolute Percentage Error (MAPE)\n",
        "MAPE = np.mean((np.abs(np.subtract(y_test_unscaled, y_pred)/ y_test_unscaled))) * 100\n",
        "print(f'Mean Absolute Percentage Error (MAPE): {np.round(MAPE, 2)} %')\n",
        "\n",
        "# Median Absolute Percentage Error (MDAPE)\n",
        "MDAPE = np.median((np.abs(np.subtract(y_test_unscaled, y_pred)/ y_test_unscaled)) ) * 100\n",
        "print(f'Median Absolute Percentage Error (MDAPE): {np.round(MDAPE, 2)} %')\n"
      ],
      "metadata": {
        "colab": {
          "base_uri": "https://localhost:8080/"
        },
        "id": "Cv4DWND4233M",
        "outputId": "86d1aee2-9592-4db7-cd52-42f865013a38"
      },
      "execution_count": null,
      "outputs": [
        {
          "output_type": "stream",
          "name": "stdout",
          "text": [
            "7/7 [==============================] - 1s 33ms/step\n",
            "############### Total Time Taken:  0.6231701374053955 s #############\n",
            "Median Absolute Error (MAE): 7.04\n",
            "Mean Absolute Percentage Error (MAPE): 6.21 %\n",
            "Median Absolute Percentage Error (MDAPE): 6.04 %\n"
          ]
        }
      ]
    },
    {
      "cell_type": "code",
      "source": [
        "plt.plot(y_pred, color = 'red',label = 'Real TATA Stock Price')\n",
        "plt.plot(y_test_unscaled, color= 'blue',label = 'Predicted TAT Stock Price')\n",
        "plt.title('TATA Stock Price Predicion')\n",
        "plt.xlabel('Time')\n",
        "plt.ylabel('TATA Stock Price')\n",
        "plt.legend()\n",
        "plt.show()"
      ],
      "metadata": {
        "colab": {
          "base_uri": "https://localhost:8080/"
        },
        "id": "Y6pfCFzS3Agl",
        "outputId": "788544fc-6f74-423f-d878-4ca38fb97649"
      },
      "execution_count": null,
      "outputs": [
        {
          "output_type": "display_data",
          "data": {
            "text/plain": [
              "<Figure size 432x288 with 1 Axes>"
            ],
            "image/png": "[encoded data removed]"
          },
          "metadata": {
            "needs_background": "light"
          }
        }
      ]
    },
    {
      "cell_type": "markdown",
      "source": [
        "# Overfitting RNN model"
      ],
      "metadata": {
        "id": "yXXJEa2Y3LH8"
      }
    },
    {
      "cell_type": "code",
      "source": [
        "epochs = 50\n",
        "batch_size = 16\n",
        "early_stop = EarlyStopping(monitor='loss', patience=5, verbose=1)\n",
        "StartTime=time.time()\n",
        "history = model_rnn.fit(x_train, y_train, \n",
        "                    batch_size=batch_size, \n",
        "                    epochs=epochs,\n",
        "                    validation_data=(x_test, y_test),\n",
        "                    callbacks=[early_stop]\n",
        "                   )\n",
        "EndTime=time.time()\n",
        "\n",
        "print(\"############### Total Time Taken: \",EndTime-StartTime, 's #############')\n"
      ],
      "metadata": {
        "colab": {
          "base_uri": "https://localhost:8080/"
        },
        "id": "Gx_iCP1l3O7a",
        "outputId": "36a953eb-b8cc-4a23-8721-12636fe90bf5"
      },
      "execution_count": null,
      "outputs": [
        {
          "output_type": "stream",
          "name": "stdout",
          "text": [
            "Epoch 1/50\n",
            "46/46 [==============================] - 4s 79ms/step - loss: 0.0025 - val_loss: 0.0012\n",
            "Epoch 2/50\n",
            "46/46 [==============================] - 3s 76ms/step - loss: 0.0014 - val_loss: 0.0023\n",
            "Epoch 3/50\n",
            "46/46 [==============================] - 4s 80ms/step - loss: 0.0016 - val_loss: 0.0014\n",
            "Epoch 4/50\n",
            "46/46 [==============================] - 4s 78ms/step - loss: 9.0801e-04 - val_loss: 0.0011\n",
            "Epoch 5/50\n",
            "46/46 [==============================] - 4s 78ms/step - loss: 0.0019 - val_loss: 0.0010\n",
            "Epoch 6/50\n",
            "46/46 [==============================] - 4s 79ms/step - loss: 0.0019 - val_loss: 0.0025\n",
            "Epoch 7/50\n",
            "46/46 [==============================] - 3s 76ms/step - loss: 0.0015 - val_loss: 0.0011\n",
            "Epoch 8/50\n",
            "46/46 [==============================] - 3s 76ms/step - loss: 0.0015 - val_loss: 0.0011\n",
            "Epoch 9/50\n",
            "46/46 [==============================] - 4s 76ms/step - loss: 0.0024 - val_loss: 0.0082\n",
            "Epoch 9: early stopping\n",
            "############### Total Time Taken:  32.17490100860596 s #############\n"
          ]
        }
      ]
    },
    {
      "cell_type": "code",
      "source": [
        "# Plot training & validation loss values\n",
        "fig, ax = plt.subplots(figsize=(16, 5), sharex=True)\n",
        "sns.lineplot(data=history.history[\"loss\"])\n",
        "plt.title(\"Model loss\")\n",
        "plt.ylabel(\"Loss\")\n",
        "plt.xlabel(\"Epoch\")\n",
        "ax.xaxis.set_major_locator(plt.MaxNLocator(epochs))\n",
        "plt.legend([\"Train\", \"Test\"], loc=\"upper left\")\n",
        "plt.grid()\n",
        "plt.show()"
      ],
      "metadata": {
        "id": "uK1ukRug3hVE",
        "colab": {
          "base_uri": "https://localhost:8080/"
        },
        "outputId": "13d7ffa0-26b6-4006-d05d-0d6010c33aa2"
      },
      "execution_count": null,
      "outputs": [
        {
          "output_type": "display_data",
          "data": {
            "text/plain": [
              "<Figure size 1152x360 with 1 Axes>"
            ],
            "image/png": "[encoded data removed]"
          },
          "metadata": {
            "needs_background": "light"
          }
        }
      ]
    },
    {
      "cell_type": "markdown",
      "source": [
        "- Độ chính xác sau khi overfitting"
      ],
      "metadata": {
        "id": "XmsxdhTa3NWE"
      }
    },
    {
      "cell_type": "code",
      "source": [
        "from sklearn.metrics import accuracy_score\n",
        "\n",
        "# Get the predicted values\n",
        "y_pred_scaled = model_rnn.predict(x_test)\n",
        "\n",
        "# Unscale the predicted values\n",
        "y_pred = scaler_pred.inverse_transform(y_pred_scaled)\n",
        "y_test_unscaled = scaler_pred.inverse_transform(y_test.reshape(-1, 1))\n",
        "\n",
        "#Acurracy score\n",
        "# print(y_test_unscaled)\n",
        "# print(y_pred)\n",
        "\n",
        "# Mean Absolute Error (MAE)\n",
        "MAE = mean_absolute_error(y_test_unscaled, y_pred)\n",
        "print(f'Median Absolute Error (MAE): {np.round(MAE, 2)}')\n",
        "\n",
        "# Mean Absolute Percentage Error (MAPE)\n",
        "MAPE = np.mean((np.abs(np.subtract(y_test_unscaled, y_pred)/ y_test_unscaled))) * 100\n",
        "print(f'Mean Absolute Percentage Error (MAPE): {np.round(MAPE, 2)} %')\n",
        "\n",
        "# Median Absolute Percentage Error (MDAPE)\n",
        "MDAPE = np.median((np.abs(np.subtract(y_test_unscaled, y_pred)/ y_test_unscaled)) ) * 100\n",
        "print(f'Median Absolute Percentage Error (MDAPE): {np.round(MDAPE, 2)} %')\n",
        "\n",
        "R2 = r2_score(y_test_unscaled, y_pred)\n",
        "print(f'R Squared (R2): {np.round(R2, 2)}')"
      ],
      "metadata": {
        "id": "Rs2EO2xs3pDm",
        "colab": {
          "base_uri": "https://localhost:8080/"
        },
        "outputId": "47ce9b6d-ad11-4811-8ffa-55271d111303"
      },
      "execution_count": null,
      "outputs": [
        {
          "output_type": "stream",
          "name": "stdout",
          "text": [
            "7/7 [==============================] - 0s 32ms/step\n",
            "Median Absolute Error (MAE): 8.48\n",
            "Mean Absolute Percentage Error (MAPE): 7.51 %\n",
            "Median Absolute Percentage Error (MDAPE): 7.6 %\n",
            "R Squared (R2): 0.57\n"
          ]
        }
      ]
    },
    {
      "cell_type": "code",
      "source": [
        "# score = model_rnn.evaluate(x_test, y_test,  batch_size=128)\n",
        "# print(score)"
      ],
      "metadata": {
        "id": "A9vvzg0TsIR_"
      },
      "execution_count": null,
      "outputs": []
    },
    {
      "cell_type": "code",
      "source": [
        "plt.plot(y_pred, color = 'red',label = 'Real TATA Stock Price')\n",
        "plt.plot(y_test_unscaled, color= 'blue',label = 'Predicted TAT Stock Price')\n",
        "plt.title('TATA Stock Price Predicion')\n",
        "plt.xlabel('Time')\n",
        "plt.ylabel('TATA Stock Price')\n",
        "plt.legend()\n",
        "plt.show()"
      ],
      "metadata": {
        "id": "ddsV9nzi3rt6",
        "colab": {
          "base_uri": "https://localhost:8080/"
        },
        "outputId": "1475051d-4d48-4442-efed-e609e33eb1b6"
      },
      "execution_count": null,
      "outputs": [
        {
          "output_type": "display_data",
          "data": {
            "text/plain": [
              "<Figure size 432x288 with 1 Axes>"
            ],
            "image/png": "[encoded data removed]"
          },
          "metadata": {
            "needs_background": "light"
          }
        }
      ]
    },
    {
      "cell_type": "markdown",
      "source": [
        "# Multi Layer Perceptrons"
      ],
      "metadata": {
        "id": "Y_HPKQXIL_fV"
      }
    },
    {
      "cell_type": "code",
      "source": [
        "# MLP \n",
        "model_MLP = tf.keras.models.Sequential([\n",
        "  tf.keras.layers.Flatten(input_shape = (50,5)),\n",
        "  tf.keras.layers.Dense(128, activation='relu'),\n",
        "  tf.keras.layers.Dropout(0.2),\n",
        "  tf.keras.layers.Dense(1)\n",
        "])"
      ],
      "metadata": {
        "id": "8CZMg1LsMHZF"
      },
      "execution_count": null,
      "outputs": []
    },
    {
      "cell_type": "code",
      "source": [
        "#MLPs compile model\n",
        "model_MLP.compile(optimizer='adam',\n",
        "              loss='mae')"
      ],
      "metadata": {
        "id": "is9jtDzHMIbd"
      },
      "execution_count": null,
      "outputs": []
    },
    {
      "cell_type": "code",
      "source": [
        "epochs = 50\n",
        "batch_size = 16\n",
        "early_stop = EarlyStopping(monitor='loss', patience=5, verbose=1)\n",
        "history = model_MLP.fit(x_train, y_train, \n",
        "                    batch_size=batch_size, \n",
        "                    epochs=epochs,\n",
        "                    validation_data=(x_test, y_test)\n",
        "                   )"
      ],
      "metadata": {
        "id": "-OgEyhNtMNa_",
        "colab": {
          "base_uri": "https://localhost:8080/"
        },
        "outputId": "2c77cb69-c939-4ec7-89ab-350817613077"
      },
      "execution_count": null,
      "outputs": [
        {
          "output_type": "stream",
          "name": "stdout",
          "text": [
            "Epoch 1/50\n",
            "46/46 [==============================] - 1s 7ms/step - loss: 0.1333 - val_loss: 0.1070\n",
            "Epoch 2/50\n",
            "46/46 [==============================] - 0s 4ms/step - loss: 0.0836 - val_loss: 0.0715\n",
            "Epoch 3/50\n",
            "46/46 [==============================] - 0s 4ms/step - loss: 0.0591 - val_loss: 0.0576\n",
            "Epoch 4/50\n",
            "46/46 [==============================] - 0s 4ms/step - loss: 0.0545 - val_loss: 0.0473\n",
            "Epoch 5/50\n",
            "46/46 [==============================] - 0s 4ms/step - loss: 0.0572 - val_loss: 0.0441\n",
            "Epoch 6/50\n",
            "46/46 [==============================] - 0s 4ms/step - loss: 0.0511 - val_loss: 0.0472\n",
            "Epoch 7/50\n",
            "46/46 [==============================] - 0s 4ms/step - loss: 0.0505 - val_loss: 0.0439\n",
            "Epoch 8/50\n",
            "46/46 [==============================] - 0s 4ms/step - loss: 0.0501 - val_loss: 0.0843\n",
            "Epoch 9/50\n",
            "46/46 [==============================] - 0s 4ms/step - loss: 0.0472 - val_loss: 0.0521\n",
            "Epoch 10/50\n",
            "46/46 [==============================] - 0s 5ms/step - loss: 0.0486 - val_loss: 0.0546\n",
            "Epoch 11/50\n",
            "46/46 [==============================] - 0s 5ms/step - loss: 0.0481 - val_loss: 0.0417\n",
            "Epoch 12/50\n",
            "46/46 [==============================] - 0s 4ms/step - loss: 0.0497 - val_loss: 0.0686\n",
            "Epoch 13/50\n",
            "46/46 [==============================] - 0s 4ms/step - loss: 0.0454 - val_loss: 0.0582\n",
            "Epoch 14/50\n",
            "46/46 [==============================] - 0s 5ms/step - loss: 0.0466 - val_loss: 0.0439\n",
            "Epoch 15/50\n",
            "46/46 [==============================] - 0s 5ms/step - loss: 0.0455 - val_loss: 0.0553\n",
            "Epoch 16/50\n",
            "46/46 [==============================] - 0s 3ms/step - loss: 0.0442 - val_loss: 0.0395\n",
            "Epoch 17/50\n",
            "46/46 [==============================] - 0s 5ms/step - loss: 0.0471 - val_loss: 0.0907\n",
            "Epoch 18/50\n",
            "46/46 [==============================] - 0s 4ms/step - loss: 0.0433 - val_loss: 0.0438\n",
            "Epoch 19/50\n",
            "46/46 [==============================] - 0s 4ms/step - loss: 0.0428 - val_loss: 0.0416\n",
            "Epoch 20/50\n",
            "46/46 [==============================] - 0s 5ms/step - loss: 0.0437 - val_loss: 0.0674\n",
            "Epoch 21/50\n",
            "46/46 [==============================] - 0s 4ms/step - loss: 0.0442 - val_loss: 0.0392\n",
            "Epoch 22/50\n",
            "46/46 [==============================] - 0s 4ms/step - loss: 0.0448 - val_loss: 0.0387\n",
            "Epoch 23/50\n",
            "46/46 [==============================] - 0s 5ms/step - loss: 0.0436 - val_loss: 0.0390\n",
            "Epoch 24/50\n",
            "46/46 [==============================] - 0s 5ms/step - loss: 0.0472 - val_loss: 0.0480\n",
            "Epoch 25/50\n",
            "46/46 [==============================] - 0s 3ms/step - loss: 0.0431 - val_loss: 0.0381\n",
            "Epoch 26/50\n",
            "46/46 [==============================] - 0s 3ms/step - loss: 0.0414 - val_loss: 0.0417\n",
            "Epoch 27/50\n",
            "46/46 [==============================] - 0s 4ms/step - loss: 0.0415 - val_loss: 0.0384\n",
            "Epoch 28/50\n",
            "46/46 [==============================] - 0s 4ms/step - loss: 0.0425 - val_loss: 0.0465\n",
            "Epoch 29/50\n",
            "46/46 [==============================] - 0s 3ms/step - loss: 0.0459 - val_loss: 0.0485\n",
            "Epoch 30/50\n",
            "46/46 [==============================] - 0s 4ms/step - loss: 0.0423 - val_loss: 0.0381\n",
            "Epoch 31/50\n",
            "46/46 [==============================] - 0s 4ms/step - loss: 0.0425 - val_loss: 0.0386\n",
            "Epoch 32/50\n",
            "46/46 [==============================] - 0s 4ms/step - loss: 0.0439 - val_loss: 0.0421\n",
            "Epoch 33/50\n",
            "46/46 [==============================] - 0s 3ms/step - loss: 0.0419 - val_loss: 0.0419\n",
            "Epoch 34/50\n",
            "46/46 [==============================] - 0s 4ms/step - loss: 0.0445 - val_loss: 0.0405\n",
            "Epoch 35/50\n",
            "46/46 [==============================] - 0s 3ms/step - loss: 0.0407 - val_loss: 0.0447\n",
            "Epoch 36/50\n",
            "46/46 [==============================] - 0s 3ms/step - loss: 0.0387 - val_loss: 0.0425\n",
            "Epoch 37/50\n",
            "46/46 [==============================] - 0s 5ms/step - loss: 0.0412 - val_loss: 0.0518\n",
            "Epoch 38/50\n",
            "46/46 [==============================] - 0s 3ms/step - loss: 0.0430 - val_loss: 0.0381\n",
            "Epoch 39/50\n",
            "46/46 [==============================] - 0s 5ms/step - loss: 0.0400 - val_loss: 0.0481\n",
            "Epoch 40/50\n",
            "46/46 [==============================] - 0s 3ms/step - loss: 0.0389 - val_loss: 0.0523\n",
            "Epoch 41/50\n",
            "46/46 [==============================] - 0s 4ms/step - loss: 0.0429 - val_loss: 0.0544\n",
            "Epoch 42/50\n",
            "46/46 [==============================] - 0s 4ms/step - loss: 0.0410 - val_loss: 0.0445\n",
            "Epoch 43/50\n",
            "46/46 [==============================] - 0s 4ms/step - loss: 0.0402 - val_loss: 0.0431\n",
            "Epoch 44/50\n",
            "46/46 [==============================] - 0s 4ms/step - loss: 0.0387 - val_loss: 0.0641\n",
            "Epoch 45/50\n",
            "46/46 [==============================] - 0s 4ms/step - loss: 0.0370 - val_loss: 0.0450\n",
            "Epoch 46/50\n",
            "46/46 [==============================] - 0s 4ms/step - loss: 0.0406 - val_loss: 0.0374\n",
            "Epoch 47/50\n",
            "46/46 [==============================] - 0s 4ms/step - loss: 0.0407 - val_loss: 0.0433\n",
            "Epoch 48/50\n",
            "46/46 [==============================] - 0s 4ms/step - loss: 0.0376 - val_loss: 0.0371\n",
            "Epoch 49/50\n",
            "46/46 [==============================] - 0s 4ms/step - loss: 0.0383 - val_loss: 0.0424\n",
            "Epoch 50/50\n",
            "46/46 [==============================] - 0s 4ms/step - loss: 0.0415 - val_loss: 0.0389\n"
          ]
        }
      ]
    },
    {
      "cell_type": "code",
      "source": [
        "# Plot training & validation loss values\n",
        "fig, ax = plt.subplots(figsize=(16, 5), sharex=True)\n",
        "sns.lineplot(data=history.history[\"loss\"])\n",
        "plt.title(\"Model loss\")\n",
        "plt.ylabel(\"Loss\")\n",
        "plt.xlabel(\"Epoch\")\n",
        "ax.xaxis.set_major_locator(plt.MaxNLocator(epochs))\n",
        "plt.legend([\"Train\", \"Test\"], loc=\"upper left\")\n",
        "plt.grid()\n",
        "plt.show()"
      ],
      "metadata": {
        "id": "rmeyNYSuMPBW",
        "colab": {
          "base_uri": "https://localhost:8080/",
          "height": 350
        },
        "outputId": "a984d3f1-fb05-40fd-863b-364827428594"
      },
      "execution_count": null,
      "outputs": [
        {
          "output_type": "display_data",
          "data": {
            "text/plain": [
              "<Figure size 1152x360 with 1 Axes>"
            ],
            "image/png": "[encoded data removed]"
          },
          "metadata": {
            "needs_background": "light"
          }
        }
      ]
    },
    {
      "cell_type": "code",
      "source": [
        "# Get the predicted values\n",
        "y_pred_scaled = model_MLP.predict(x_test)\n",
        "\n",
        "# Unscale the predicted values\n",
        "y_pred = scaler_pred.inverse_transform(y_pred_scaled)\n",
        "y_test_unscaled = scaler_pred.inverse_transform(y_test.reshape(-1, 1))\n",
        "\n",
        "#Acurracy score\n",
        "# print(y_test_unscaled)\n",
        "# print(y_pred)\n",
        "\n",
        "# Mean Absolute Error (MAE)\n",
        "MAE = mean_absolute_error(y_test_unscaled, y_pred)\n",
        "print(f'Median Absolute Error (MAE): {np.round(MAE, 2)}')\n",
        "\n",
        "# Mean Absolute Percentage Error (MAPE)\n",
        "MAPE = np.mean((np.abs(np.subtract(y_test_unscaled, y_pred)/ y_test_unscaled))) * 100\n",
        "print(f'Mean Absolute Percentage Error (MAPE): {np.round(MAPE, 2)} %')\n",
        "\n",
        "# Median Absolute Percentage Error (MDAPE)\n",
        "MDAPE = np.median((np.abs(np.subtract(y_test_unscaled, y_pred)/ y_test_unscaled)) ) * 100\n",
        "print(f'Median Absolute Percentage Error (MDAPE): {np.round(MDAPE, 2)} %')\n"
      ],
      "metadata": {
        "id": "6id587p1MQWx",
        "colab": {
          "base_uri": "https://localhost:8080/"
        },
        "outputId": "38539f24-b1fc-40aa-8008-5422a42a9bcf"
      },
      "execution_count": null,
      "outputs": [
        {
          "output_type": "stream",
          "name": "stdout",
          "text": [
            "7/7 [==============================] - 0s 3ms/step\n",
            "Median Absolute Error (MAE): 3.88\n",
            "Mean Absolute Percentage Error (MAPE): 3.46 %\n",
            "Median Absolute Percentage Error (MDAPE): 3.19 %\n"
          ]
        }
      ]
    },
    {
      "cell_type": "markdown",
      "source": [
        "OVERFITTING FOR MLP."
      ],
      "metadata": {
        "id": "o0SCcsmXMYo9"
      }
    },
    {
      "cell_type": "code",
      "source": [
        "epochs = 50\n",
        "batch_size = 16\n",
        "early_stop = EarlyStopping(monitor='loss', patience=5, verbose=1)\n",
        "history = model_MLP.fit(x_train, y_train, \n",
        "                    batch_size=batch_size, \n",
        "                    epochs=epochs,\n",
        "                    validation_data=(x_test, y_test),\n",
        "                    callbacks=[early_stop]\n",
        "                   )"
      ],
      "metadata": {
        "id": "wmE6tV9uMToI",
        "colab": {
          "base_uri": "https://localhost:8080/"
        },
        "outputId": "107a238f-498e-4f2f-e03d-8ddd2353b530"
      },
      "execution_count": null,
      "outputs": [
        {
          "output_type": "stream",
          "name": "stdout",
          "text": [
            "Epoch 1/50\n",
            "46/46 [==============================] - 0s 4ms/step - loss: 0.0390 - val_loss: 0.0443\n",
            "Epoch 2/50\n",
            "46/46 [==============================] - 0s 3ms/step - loss: 0.0389 - val_loss: 0.0380\n",
            "Epoch 3/50\n",
            "46/46 [==============================] - 0s 4ms/step - loss: 0.0365 - val_loss: 0.0442\n",
            "Epoch 4/50\n",
            "46/46 [==============================] - 0s 4ms/step - loss: 0.0388 - val_loss: 0.0372\n",
            "Epoch 5/50\n",
            "46/46 [==============================] - 0s 4ms/step - loss: 0.0395 - val_loss: 0.0372\n",
            "Epoch 6/50\n",
            "46/46 [==============================] - 0s 5ms/step - loss: 0.0382 - val_loss: 0.0552\n",
            "Epoch 7/50\n",
            "46/46 [==============================] - 0s 4ms/step - loss: 0.0411 - val_loss: 0.0371\n",
            "Epoch 8/50\n",
            "46/46 [==============================] - 0s 4ms/step - loss: 0.0376 - val_loss: 0.0424\n",
            "Epoch 8: early stopping\n"
          ]
        }
      ]
    },
    {
      "cell_type": "code",
      "source": [
        "# Plot training & validation loss values\n",
        "fig, ax = plt.subplots(figsize=(16, 5), sharex=True)\n",
        "sns.lineplot(data=history.history[\"loss\"])\n",
        "plt.title(\"Model loss\")\n",
        "plt.ylabel(\"Loss\")\n",
        "plt.xlabel(\"Epoch\")\n",
        "ax.xaxis.set_major_locator(plt.MaxNLocator(epochs))\n",
        "plt.legend([\"Train\", \"Test\"], loc=\"upper left\")\n",
        "plt.grid()\n",
        "plt.show()"
      ],
      "metadata": {
        "id": "G8GCkAPfMfEc",
        "colab": {
          "base_uri": "https://localhost:8080/",
          "height": 350
        },
        "outputId": "83ecd4dd-6406-4c60-82bd-ead29611912e"
      },
      "execution_count": null,
      "outputs": [
        {
          "output_type": "display_data",
          "data": {
            "text/plain": [
              "<Figure size 1152x360 with 1 Axes>"
            ],
            "image/png": "[encoded data removed]"
          },
          "metadata": {
            "needs_background": "light"
          }
        }
      ]
    },
    {
      "cell_type": "markdown",
      "source": [],
      "metadata": {
        "id": "CJmypLUVsEvx"
      }
    },
    {
      "cell_type": "code",
      "source": [
        "print(x_test)"
      ],
      "metadata": {
        "id": "iPCV4CgosHTT",
        "colab": {
          "base_uri": "https://localhost:8080/"
        },
        "outputId": "b68a8080-34e7-4a74-9dce-31759461392f"
      },
      "execution_count": null,
      "outputs": [
        {
          "output_type": "stream",
          "name": "stdout",
          "text": [
            "[[[0.94513428 0.9211627  0.93652458 0.91735227 0.2956725 ]\n",
            "  [0.94383724 0.91545774 0.92427375 0.90900442 0.18378212]\n",
            "  [0.9255456  0.91023647 0.90063354 0.93060982 0.12212894]\n",
            "  ...\n",
            "  [0.91723773 0.88722494 0.91929039 0.88217929 0.32143954]\n",
            "  [0.87703337 0.86881963 0.87259624 0.8849318  0.23309785]\n",
            "  [0.90048184 0.90413838 0.89099076 0.90735294 0.18507901]]\n",
            "\n",
            " [[0.94383724 0.91545774 0.92427375 0.90900442 0.18378212]\n",
            "  [0.9255456  0.91023647 0.90063354 0.93060982 0.12212894]\n",
            "  [0.93094035 0.91192983 0.92707481 0.91803788 0.16852667]\n",
            "  ...\n",
            "  [0.87703337 0.86881963 0.87259624 0.8849318  0.23309785]\n",
            "  [0.90048184 0.90413838 0.89099076 0.90735294 0.18507901]\n",
            "  [0.89301628 0.88068329 0.87763156 0.87882102 0.22253507]]\n",
            "\n",
            " [[0.9255456  0.91023647 0.90063354 0.93060982 0.12212894]\n",
            "  [0.93094035 0.91192983 0.92707481 0.91803788 0.16852667]\n",
            "  [0.92230167 0.9068599  0.91795427 0.9308099  0.1302174 ]\n",
            "  ...\n",
            "  [0.90048184 0.90413838 0.89099076 0.90735294 0.18507901]\n",
            "  [0.89301628 0.88068329 0.87763156 0.87882102 0.22253507]\n",
            "  [0.87147965 0.83268942 0.87020839 0.83405406 0.27193611]]\n",
            "\n",
            " ...\n",
            "\n",
            " [[0.58776837 0.57391188 0.563483   0.59733152 0.13695096]\n",
            "  [0.58365712 0.57839729 0.57753752 0.58672149 0.12563308]\n",
            "  [0.59789619 0.59795165 0.58614843 0.61034371 0.1262491 ]\n",
            "  ...\n",
            "  [0.45109323 0.43829149 0.43431981 0.45970214 0.20136258]\n",
            "  [0.44928827 0.44789726 0.44213889 0.45269552 0.14704362]\n",
            "  [0.48177743 0.46711895 0.47351414 0.47962085 0.21240743]]\n",
            "\n",
            " [[0.58365712 0.57839729 0.57753752 0.58672149 0.12563308]\n",
            "  [0.59789619 0.59795165 0.58614843 0.61034371 0.1262491 ]\n",
            "  [0.6043138  0.60732564 0.60534965 0.6112446  0.10918484]\n",
            "  ...\n",
            "  [0.44928827 0.44789726 0.44213889 0.45269552 0.14704362]\n",
            "  [0.48177743 0.46711895 0.47351414 0.47962085 0.21240743]\n",
            "  [0.47606174 0.47600915 0.46708071 0.48232336 0.15122521]]\n",
            "\n",
            " [[0.59789619 0.59795165 0.58614843 0.61034371 0.1262491 ]\n",
            "  [0.6043138  0.60732564 0.60534965 0.6112446  0.10918484]\n",
            "  [0.57152383 0.54755386 0.57466722 0.54558282 0.22250947]\n",
            "  ...\n",
            "  [0.48177743 0.46711895 0.47351414 0.47962085 0.21240743]\n",
            "  [0.47606174 0.47600915 0.46708071 0.48232336 0.15122521]\n",
            "  [0.47235161 0.46792533 0.45876679 0.47741877 0.12698116]]]\n"
          ]
        }
      ]
    },
    {
      "cell_type": "code",
      "source": [
        "from sklearn.metrics import accuracy_score\n",
        "\n",
        "# Get the predicted values\n",
        "y_pred_scaled = model_MLP.predict(x_test)\n",
        "\n",
        "# Unscale the predicted values\n",
        "y_pred = scaler_pred.inverse_transform(y_pred_scaled)\n",
        "y_test_unscaled = scaler_pred.inverse_transform(y_test.reshape(-1, 1))\n",
        "\n",
        "#Acurracy score\n",
        "# print(y_test_unscaled)\n",
        "# print(y_pred)\n",
        "\n",
        "# Mean Absolute Error (MAE)\n",
        "MAE = mean_absolute_error(y_test_unscaled, y_pred)\n",
        "print(f'Median Absolute Error (MAE): {np.round(MAE, 2)}')\n",
        "\n",
        "# Mean Absolute Percentage Error (MAPE)\n",
        "MAPE = np.mean((np.abs(np.subtract(y_test_unscaled, y_pred)/ y_test_unscaled))) * 100\n",
        "print(f'Mean Absolute Percentage Error (MAPE): {np.round(MAPE, 2)} %')\n",
        "\n",
        "# Median Absolute Percentage Error (MDAPE)\n",
        "MDAPE = np.median((np.abs(np.subtract(y_test_unscaled, y_pred)/ y_test_unscaled)) ) * 100\n",
        "print(f'Median Absolute Percentage Error (MDAPE): {np.round(MDAPE, 2)} %')\n",
        "\n",
        "R2 = r2_score(y_test_unscaled, y_pred)\n",
        "print(f'R Squared (R2): {np.round(R2, 2)}')"
      ],
      "metadata": {
        "id": "DFHxT_BUMg9x",
        "colab": {
          "base_uri": "https://localhost:8080/"
        },
        "outputId": "e3c33423-1259-4746-d0be-8e76433c6b7f"
      },
      "execution_count": null,
      "outputs": [
        {
          "output_type": "stream",
          "name": "stdout",
          "text": [
            "7/7 [==============================] - 0s 3ms/step\n",
            "Median Absolute Error (MAE): 4.23\n",
            "Mean Absolute Percentage Error (MAPE): 3.59 %\n",
            "Median Absolute Percentage Error (MDAPE): 2.98 %\n",
            "R Squared (R2): 0.85\n"
          ]
        }
      ]
    },
    {
      "cell_type": "code",
      "source": [
        "plt.plot(y_pred, color = 'red',label = 'Real TATA Stock Price')\n",
        "plt.plot(y_test_unscaled, color= 'blue',label = 'Predicted TAT Stock Price')\n",
        "plt.title('TATA Stock Price Predicion')\n",
        "plt.xlabel('Time')\n",
        "plt.ylabel('TATA Stock Price')\n",
        "plt.legend()\n",
        "plt.show()"
      ],
      "metadata": {
        "id": "_smzOmb3Mi_-",
        "colab": {
          "base_uri": "https://localhost:8080/",
          "height": 295
        },
        "outputId": "04e02ec1-3c70-4949-a118-989cf7df8f8e"
      },
      "execution_count": null,
      "outputs": [
        {
          "output_type": "display_data",
          "data": {
            "text/plain": [
              "<Figure size 432x288 with 1 Axes>"
            ],
            "image/png": "[encoded data removed]"
          },
          "metadata": {
            "needs_background": "light"
          }
        }
      ]
    },
    {
      "cell_type": "markdown",
      "source": [
        "# LSTM model"
      ],
      "metadata": {
        "id": "-XW4OWZt2vuD"
      }
    },
    {
      "cell_type": "code",
      "source": [
        "# Configure the neural network model\n",
        "model_LSTM = Sequential()\n",
        "\n",
        "# Model_LSTM with n_neurons = inputshape Timestamps, each with x_train.shape[2] variables\n",
        "n_neurons = x_train.shape[1] * x_train.shape[2]\n",
        "print(n_neurons, x_train.shape[1], x_train.shape[2])\n",
        "model_LSTM.add(LSTM(n_neurons, return_sequences=True, input_shape=(x_train.shape[1], x_train.shape[2]))) \n",
        "model_LSTM.add(LSTM(n_neurons, return_sequences=False))\n",
        "model_LSTM.add(Dense(5))\n",
        "model_LSTM.add(Dense(1))\n",
        "\n",
        "# Compile the model_LSTM\n",
        "model_LSTM.compile(optimizer='adam', loss='mse')"
      ],
      "metadata": {
        "id": "GhcWwSHx2z9H",
        "colab": {
          "base_uri": "https://localhost:8080/"
        },
        "outputId": "138c0bd0-aa1f-486d-996d-99e65adffb01"
      },
      "execution_count": null,
      "outputs": [
        {
          "output_type": "stream",
          "name": "stdout",
          "text": [
            "250 50 5\n"
          ]
        }
      ]
    },
    {
      "cell_type": "code",
      "source": [
        "# Training the model\n",
        "epochs = 50\n",
        "batch_size = 16\n",
        "early_stop = EarlyStopping(monitor='val_loss', min_delta=1e-4, patience=5, \n",
        "        verbose=1, mode='auto', restore_best_weights=True)\n",
        "\n",
        "\n",
        "StartTime=time.time()\n",
        "history = model_LSTM.fit(x_train, y_train, \n",
        "                   batch_size=batch_size, \n",
        "                   epochs=epochs,\n",
        "                   validation_data=(x_test, y_test), \n",
        "                   callbacks=[early_stop])\n",
        "EndTime=time.time()\n",
        "\n",
        "print(\"############### Total Time Taken: \",EndTime-StartTime, 's #############')\n",
        "\n"
      ],
      "metadata": {
        "id": "FlH9q_lf25xP",
        "colab": {
          "base_uri": "https://localhost:8080/"
        },
        "outputId": "6f779335-3f40-49b7-cb00-ccb26ed9a224"
      },
      "execution_count": null,
      "outputs": [
        {
          "output_type": "stream",
          "name": "stdout",
          "text": [
            "Epoch 1/50\n",
            "46/46 [==============================] - 19s 329ms/step - loss: 0.0219 - val_loss: 0.0049\n",
            "Epoch 2/50\n",
            "46/46 [==============================] - 14s 300ms/step - loss: 8.9322e-04 - val_loss: 0.0028\n",
            "Epoch 3/50\n",
            "46/46 [==============================] - 14s 302ms/step - loss: 7.4381e-04 - val_loss: 0.0032\n",
            "Epoch 4/50\n",
            "46/46 [==============================] - 14s 301ms/step - loss: 7.5339e-04 - val_loss: 0.0041\n",
            "Epoch 5/50\n",
            "46/46 [==============================] - 14s 306ms/step - loss: 7.3986e-04 - val_loss: 0.0027\n",
            "Epoch 6/50\n",
            "46/46 [==============================] - 14s 307ms/step - loss: 7.0563e-04 - val_loss: 0.0024\n",
            "Epoch 7/50\n",
            "46/46 [==============================] - 14s 302ms/step - loss: 6.6916e-04 - val_loss: 0.0025\n",
            "Epoch 8/50\n",
            "46/46 [==============================] - 14s 299ms/step - loss: 6.6205e-04 - val_loss: 0.0019\n",
            "Epoch 9/50\n",
            "46/46 [==============================] - 14s 310ms/step - loss: 7.1310e-04 - val_loss: 0.0020\n",
            "Epoch 10/50\n",
            "46/46 [==============================] - 15s 325ms/step - loss: 7.4072e-04 - val_loss: 0.0032\n",
            "Epoch 11/50\n",
            "46/46 [==============================] - 17s 363ms/step - loss: 7.9309e-04 - val_loss: 0.0025\n",
            "Epoch 12/50\n",
            "46/46 [==============================] - 14s 312ms/step - loss: 7.0553e-04 - val_loss: 0.0032\n",
            "Epoch 13/50\n",
            "46/46 [==============================] - ETA: 0s - loss: 6.7276e-04Restoring model weights from the end of the best epoch: 8.\n",
            "46/46 [==============================] - 14s 313ms/step - loss: 6.7276e-04 - val_loss: 0.0022\n",
            "Epoch 13: early stopping\n",
            "############### Total Time Taken:  191.1071527004242 s #############\n"
          ]
        }
      ]
    },
    {
      "cell_type": "code",
      "source": [
        "# Plot training & validation loss values\n",
        "fig, ax = plt.subplots(figsize=(16, 5), sharex=True)\n",
        "sns.lineplot(data=history.history[\"loss\"])\n",
        "plt.title(\"Model loss\")\n",
        "plt.ylabel(\"Loss\")\n",
        "plt.xlabel(\"Epoch\")\n",
        "ax.xaxis.set_major_locator(plt.MaxNLocator(epochs))\n",
        "plt.legend([\"Train\", \"Test\"], loc=\"upper left\")\n",
        "plt.grid()\n",
        "plt.show()"
      ],
      "metadata": {
        "id": "FngW-ukM3CoK",
        "colab": {
          "base_uri": "https://localhost:8080/",
          "height": 350
        },
        "outputId": "906e80f9-1d0d-46d0-c13e-84a20db8cd92"
      },
      "execution_count": null,
      "outputs": [
        {
          "output_type": "display_data",
          "data": {
            "text/plain": [
              "<Figure size 1152x360 with 1 Axes>"
            ],
            "image/png": "[encoded data removed]"
          },
          "metadata": {
            "needs_background": "light"
          }
        }
      ]
    },
    {
      "cell_type": "code",
      "source": [
        "from sklearn.metrics import accuracy_score\n",
        "\n",
        "# Get the predicted values\n",
        "y_pred_scaled = model_LSTM.predict(x_test)\n",
        "\n",
        "# Unscale the predicted values\n",
        "y_pred = scaler_pred.inverse_transform(y_pred_scaled)\n",
        "y_test_unscaled = scaler_pred.inverse_transform(y_test.reshape(-1, 1))\n",
        "\n",
        "#Acurracy score\n",
        "# print(y_test_unscaled)\n",
        "# print(y_pred)\n",
        "\n",
        "# Mean Absolute Error (MAE)\n",
        "MAE = mean_absolute_error(y_test_unscaled, y_pred)\n",
        "print(f'Median Absolute Error (MAE): {np.round(MAE, 2)}')\n",
        "\n",
        "# Mean Absolute Percentage Error (MAPE)\n",
        "MAPE = np.mean((np.abs(np.subtract(y_test_unscaled, y_pred)/ y_test_unscaled))) * 100\n",
        "print(f'Mean Absolute Percentage Error (MAPE): {np.round(MAPE, 2)} %')\n",
        "\n",
        "# Median Absolute Percentage Error (MDAPE)\n",
        "MDAPE = np.median((np.abs(np.subtract(y_test_unscaled, y_pred)/ y_test_unscaled)) ) * 100\n",
        "print(f'Median Absolute Percentage Error (MDAPE): {np.round(MDAPE, 2)} %')\n",
        "\n",
        "R2 = r2_score(y_test_unscaled, y_pred)\n",
        "print(f'R Squared (R2): {np.round(R2, 2)}')"
      ],
      "metadata": {
        "id": "M_oBctHm3nVX",
        "colab": {
          "base_uri": "https://localhost:8080/"
        },
        "outputId": "ad4d8c17-d6a6-4a8e-aab4-5f0b036783b7"
      },
      "execution_count": null,
      "outputs": [
        {
          "output_type": "stream",
          "name": "stdout",
          "text": [
            "7/7 [==============================] - 2s 111ms/step\n",
            "Median Absolute Error (MAE): 3.67\n",
            "Mean Absolute Percentage Error (MAPE): 3.25 %\n",
            "Median Absolute Percentage Error (MDAPE): 3.0 %\n",
            "R Squared (R2): 0.9\n"
          ]
        }
      ]
    },
    {
      "cell_type": "code",
      "source": [
        "plt.plot(y_pred, color = 'red',label = 'Real TATA Stock Price')\n",
        "plt.plot(y_test_unscaled, color= 'blue',label = 'Predicted TAT Stock Price')\n",
        "plt.title('TATA Stock Price Predicion')\n",
        "plt.xlabel('Time')\n",
        "plt.ylabel('TATA Stock Price')\n",
        "plt.legend()\n",
        "plt.show()"
      ],
      "metadata": {
        "id": "JTicbrHt3pUK",
        "colab": {
          "base_uri": "https://localhost:8080/",
          "height": 295
        },
        "outputId": "c06b4e91-355d-4e80-9b6f-6ce9c2d522d4"
      },
      "execution_count": null,
      "outputs": [
        {
          "output_type": "display_data",
          "data": {
            "text/plain": [
              "<Figure size 432x288 with 1 Axes>"
            ],
            "image/png": "[encoded data removed]"
          },
          "metadata": {
            "needs_background": "light"
          }
        }
      ]
    },
    {
      "cell_type": "markdown",
      "source": [
        "# Predict Next 14 day"
      ],
      "metadata": {
        "id": "Eut7Bg9Okpyf"
      }
    },
    {
      "cell_type": "code",
      "source": [
        "from numpy import array\n",
        "import numpy as np\n",
        "from sklearn.preprocessing import MinMaxScaler\n",
        "import matplotlib.pyplot as plt\n",
        "from sklearn.model_selection import train_test_split\n",
        "from keras.models import Sequential\n",
        "from keras.layers import Dense, SimpleRNN, Dropout\n",
        "from keras.regularizers import l1\n",
        "from keras.callbacks import EarlyStopping\n",
        "from datetime import datetime, timedelta"
      ],
      "metadata": {
        "id": "-hWg2AIgaswD"
      },
      "execution_count": null,
      "outputs": []
    },
    {
      "cell_type": "markdown",
      "source": [
        "----"
      ],
      "metadata": {
        "id": "qClEUna6djuB"
      }
    },
    {
      "cell_type": "code",
      "source": [
        "# Create a new dataframe with only the 'Close column \n",
        "LSTM_temp = df_Close\n",
        "# Convert the dataframe to a numpy array\n",
        "dataset = LSTM_temp.values\n",
        "# Get the number of rows to train the model on\n",
        "training_data_len = int(np.ceil( len(dataset) * .80 )) #We use 80% traing and 20% test - this means it predicts from 2019 in july.\n",
        "\n",
        "training_data_len"
      ],
      "metadata": {
        "id": "I2UuKhmffDK6",
        "colab": {
          "base_uri": "https://localhost:8080/"
        },
        "outputId": "d2b26f41-2af5-45c7-982d-8e40614edc70"
      },
      "execution_count": null,
      "outputs": [
        {
          "output_type": "execute_result",
          "data": {
            "text/plain": [
              "784"
            ]
          },
          "metadata": {},
          "execution_count": 42
        }
      ]
    },
    {
      "cell_type": "code",
      "source": [
        "# Scale the data\n",
        "scaler = MinMaxScaler(feature_range=(0,1))\n",
        "scaled_data = scaler.fit_transform(dataset)\n",
        "\n",
        "\n",
        "# Create the training data set \n",
        "# Create the scaled training data set\n",
        "train_data = scaled_data[0:int(training_data_len), :]\n",
        "# Split the data into x_train and y_train data sets\n",
        "x_train = []\n",
        "y_train = []\n",
        "\n",
        "for i in range(60, len(train_data)):\n",
        "    x_train.append(train_data[i-60:i, 0])\n",
        "    y_train.append(train_data[i, 0])\n",
        "    if i<= 61:\n",
        "        print(x_train)\n",
        "        print(y_train)\n",
        "        print()\n",
        "        \n",
        "# Convert the x_train and y_train to numpy arrays \n",
        "x_train, y_train = np.array(x_train), np.array(y_train)\n",
        "\n",
        "# Reshape the data\n",
        "x_train = np.reshape(x_train, (x_train.shape[0], x_train.shape[1], 1))\n",
        "# x_train.shape"
      ],
      "metadata": {
        "id": "S5XeOsecfHBy",
        "colab": {
          "base_uri": "https://localhost:8080/"
        },
        "outputId": "bbcd5d5d-d781-456a-edf2-fe44c6af9660"
      },
      "execution_count": null,
      "outputs": [
        {
          "output_type": "stream",
          "name": "stdout",
          "text": [
            "[array([0.014909  , 0.        , 0.0273507 , 0.02618959, 0.03013831,\n",
            "       0.02932758, 0.02716051, 0.02058435, 0.01432847, 0.03057371,\n",
            "       0.03248553, 0.03695472, 0.04113864, 0.02725562, 0.02978299,\n",
            "       0.0289472 , 0.03750024, 0.02703542, 0.02230093, 0.03653432,\n",
            "       0.05020219, 0.04738952, 0.0584249 , 0.06502612, 0.04963165,\n",
            "       0.04136388, 0.03953714, 0.03951213, 0.05270454, 0.05209895,\n",
            "       0.05285467, 0.04884089, 0.05129822, 0.04891596, 0.04049304,\n",
            "       0.04719937, 0.04671391, 0.0495816 , 0.05004205, 0.05197883,\n",
            "       0.06252376, 0.06593196, 0.07305367, 0.07096672, 0.06367986,\n",
            "       0.0631894 , 0.0799251 , 0.08865333, 0.08871338, 0.08482473,\n",
            "       0.08427921, 0.08417913, 0.09148099, 0.10405282, 0.10784136,\n",
            "       0.09480913, 0.08855325, 0.08435928, 0.07855384, 0.0762867 ])]\n",
            "[0.07869897782614632]\n",
            "\n",
            "[array([0.014909  , 0.        , 0.0273507 , 0.02618959, 0.03013831,\n",
            "       0.02932758, 0.02716051, 0.02058435, 0.01432847, 0.03057371,\n",
            "       0.03248553, 0.03695472, 0.04113864, 0.02725562, 0.02978299,\n",
            "       0.0289472 , 0.03750024, 0.02703542, 0.02230093, 0.03653432,\n",
            "       0.05020219, 0.04738952, 0.0584249 , 0.06502612, 0.04963165,\n",
            "       0.04136388, 0.03953714, 0.03951213, 0.05270454, 0.05209895,\n",
            "       0.05285467, 0.04884089, 0.05129822, 0.04891596, 0.04049304,\n",
            "       0.04719937, 0.04671391, 0.0495816 , 0.05004205, 0.05197883,\n",
            "       0.06252376, 0.06593196, 0.07305367, 0.07096672, 0.06367986,\n",
            "       0.0631894 , 0.0799251 , 0.08865333, 0.08871338, 0.08482473,\n",
            "       0.08427921, 0.08417913, 0.09148099, 0.10405282, 0.10784136,\n",
            "       0.09480913, 0.08855325, 0.08435928, 0.07855384, 0.0762867 ]), array([0.        , 0.0273507 , 0.02618959, 0.03013831, 0.02932758,\n",
            "       0.02716051, 0.02058435, 0.01432847, 0.03057371, 0.03248553,\n",
            "       0.03695472, 0.04113864, 0.02725562, 0.02978299, 0.0289472 ,\n",
            "       0.03750024, 0.02703542, 0.02230093, 0.03653432, 0.05020219,\n",
            "       0.04738952, 0.0584249 , 0.06502612, 0.04963165, 0.04136388,\n",
            "       0.03953714, 0.03951213, 0.05270454, 0.05209895, 0.05285467,\n",
            "       0.04884089, 0.05129822, 0.04891596, 0.04049304, 0.04719937,\n",
            "       0.04671391, 0.0495816 , 0.05004205, 0.05197883, 0.06252376,\n",
            "       0.06593196, 0.07305367, 0.07096672, 0.06367986, 0.0631894 ,\n",
            "       0.0799251 , 0.08865333, 0.08871338, 0.08482473, 0.08427921,\n",
            "       0.08417913, 0.09148099, 0.10405282, 0.10784136, 0.09480913,\n",
            "       0.08855325, 0.08435928, 0.07855384, 0.0762867 , 0.07869898])]\n",
            "[0.07869897782614632, 0.08926890366213136]\n",
            "\n"
          ]
        }
      ]
    },
    {
      "cell_type": "code",
      "source": [
        "# Configure the neural network model_rnn\n",
        "model_rnn = Sequential()\n",
        "\n",
        "\n",
        "\n",
        "# model_rnn with n_neurons = inputshape Timestamps, each with x_train.shape[2] variables\n",
        "n_neurons = x_train.shape[1] * x_train.shape[2]\n",
        "\n",
        "\n",
        "model_rnn.add(SimpleRNN(n_neurons, return_sequences = True, input_shape = (x_train.shape[1], x_train.shape[2])))\n",
        "model_rnn.add(SimpleRNN(n_neurons, return_sequences = False))\n",
        "\n",
        "model_rnn.add(Dense(5))\n",
        "model_rnn.add(Dense(1))\n",
        "\n",
        "model_rnn.compile(optimizer='adam', loss='mse')"
      ],
      "metadata": {
        "id": "I6lv_gkffPQH"
      },
      "execution_count": null,
      "outputs": []
    },
    {
      "cell_type": "code",
      "source": [
        "history = model_rnn.fit(x_train, y_train, epochs = 40, batch_size = 32, validation_split=0.2)"
      ],
      "metadata": {
        "id": "VFy0IihLfZgF",
        "colab": {
          "base_uri": "https://localhost:8080/"
        },
        "outputId": "b6cb49b7-6b2d-4aed-df49-b6591ccfe8c4"
      },
      "execution_count": null,
      "outputs": [
        {
          "output_type": "stream",
          "name": "stdout",
          "text": [
            "Epoch 1/40\n",
            "19/19 [==============================] - 3s 52ms/step - loss: 0.0411 - val_loss: 0.0029\n",
            "Epoch 2/40\n",
            "19/19 [==============================] - 1s 33ms/step - loss: 0.0020 - val_loss: 0.0034\n",
            "Epoch 3/40\n",
            "19/19 [==============================] - 1s 33ms/step - loss: 0.0013 - val_loss: 0.0017\n",
            "Epoch 4/40\n",
            "19/19 [==============================] - 1s 33ms/step - loss: 0.0012 - val_loss: 0.0017\n",
            "Epoch 5/40\n",
            "19/19 [==============================] - 1s 33ms/step - loss: 0.0011 - val_loss: 0.0029\n",
            "Epoch 6/40\n",
            "19/19 [==============================] - 1s 34ms/step - loss: 8.9703e-04 - val_loss: 0.0031\n",
            "Epoch 7/40\n",
            "19/19 [==============================] - 1s 33ms/step - loss: 0.0011 - val_loss: 0.0020\n",
            "Epoch 8/40\n",
            "19/19 [==============================] - 1s 32ms/step - loss: 7.8084e-04 - val_loss: 0.0015\n",
            "Epoch 9/40\n",
            "19/19 [==============================] - 1s 32ms/step - loss: 6.0373e-04 - val_loss: 0.0016\n",
            "Epoch 10/40\n",
            "19/19 [==============================] - 1s 32ms/step - loss: 6.3402e-04 - val_loss: 0.0025\n",
            "Epoch 11/40\n",
            "19/19 [==============================] - 1s 32ms/step - loss: 7.3310e-04 - val_loss: 0.0012\n",
            "Epoch 12/40\n",
            "19/19 [==============================] - 1s 33ms/step - loss: 6.0507e-04 - val_loss: 0.0011\n",
            "Epoch 13/40\n",
            "19/19 [==============================] - 1s 33ms/step - loss: 5.4377e-04 - val_loss: 0.0011\n",
            "Epoch 14/40\n",
            "19/19 [==============================] - 1s 32ms/step - loss: 4.9490e-04 - val_loss: 0.0011\n",
            "Epoch 15/40\n",
            "19/19 [==============================] - 1s 33ms/step - loss: 4.3188e-04 - val_loss: 0.0020\n",
            "Epoch 16/40\n",
            "19/19 [==============================] - 1s 32ms/step - loss: 5.1913e-04 - val_loss: 0.0013\n",
            "Epoch 17/40\n",
            "19/19 [==============================] - 1s 33ms/step - loss: 4.2313e-04 - val_loss: 0.0021\n",
            "Epoch 18/40\n",
            "19/19 [==============================] - 1s 33ms/step - loss: 6.2431e-04 - val_loss: 8.9450e-04\n",
            "Epoch 19/40\n",
            "19/19 [==============================] - 1s 32ms/step - loss: 4.3631e-04 - val_loss: 0.0028\n",
            "Epoch 20/40\n",
            "19/19 [==============================] - 1s 32ms/step - loss: 6.9700e-04 - val_loss: 0.0022\n",
            "Epoch 21/40\n",
            "19/19 [==============================] - 1s 32ms/step - loss: 7.4186e-04 - val_loss: 0.0014\n",
            "Epoch 22/40\n",
            "19/19 [==============================] - 1s 34ms/step - loss: 6.4798e-04 - val_loss: 0.0028\n",
            "Epoch 23/40\n",
            "19/19 [==============================] - 1s 32ms/step - loss: 4.6847e-04 - val_loss: 0.0017\n",
            "Epoch 24/40\n",
            "19/19 [==============================] - 1s 32ms/step - loss: 4.1928e-04 - val_loss: 0.0024\n",
            "Epoch 25/40\n",
            "19/19 [==============================] - 1s 33ms/step - loss: 5.2609e-04 - val_loss: 0.0016\n",
            "Epoch 26/40\n",
            "19/19 [==============================] - 1s 32ms/step - loss: 3.6765e-04 - val_loss: 9.0457e-04\n",
            "Epoch 27/40\n",
            "19/19 [==============================] - 1s 32ms/step - loss: 3.9011e-04 - val_loss: 8.6723e-04\n",
            "Epoch 28/40\n",
            "19/19 [==============================] - 1s 32ms/step - loss: 2.8683e-04 - val_loss: 0.0012\n",
            "Epoch 29/40\n",
            "19/19 [==============================] - 1s 33ms/step - loss: 3.0236e-04 - val_loss: 0.0012\n",
            "Epoch 30/40\n",
            "19/19 [==============================] - 1s 33ms/step - loss: 2.8878e-04 - val_loss: 7.1338e-04\n",
            "Epoch 31/40\n",
            "19/19 [==============================] - 1s 32ms/step - loss: 3.2943e-04 - val_loss: 8.1233e-04\n",
            "Epoch 32/40\n",
            "19/19 [==============================] - 1s 32ms/step - loss: 2.8801e-04 - val_loss: 0.0012\n",
            "Epoch 33/40\n",
            "19/19 [==============================] - 1s 32ms/step - loss: 3.7413e-04 - val_loss: 0.0014\n",
            "Epoch 34/40\n",
            "19/19 [==============================] - 1s 31ms/step - loss: 3.4126e-04 - val_loss: 7.2304e-04\n",
            "Epoch 35/40\n",
            "19/19 [==============================] - 1s 33ms/step - loss: 3.3490e-04 - val_loss: 6.8297e-04\n",
            "Epoch 36/40\n",
            "19/19 [==============================] - 1s 31ms/step - loss: 2.8921e-04 - val_loss: 8.7802e-04\n",
            "Epoch 37/40\n",
            "19/19 [==============================] - 1s 33ms/step - loss: 3.3927e-04 - val_loss: 6.3971e-04\n",
            "Epoch 38/40\n",
            "19/19 [==============================] - 1s 33ms/step - loss: 3.3911e-04 - val_loss: 6.3762e-04\n",
            "Epoch 39/40\n",
            "19/19 [==============================] - 1s 31ms/step - loss: 3.9929e-04 - val_loss: 6.2655e-04\n",
            "Epoch 40/40\n",
            "19/19 [==============================] - 1s 32ms/step - loss: 5.7615e-04 - val_loss: 6.5324e-04\n"
          ]
        }
      ]
    },
    {
      "cell_type": "code",
      "source": [
        "X_predict = df_Close[-60:].values.reshape(-1, 1)\n",
        "X_predict = scaler.transform(X_predict)\n",
        "y_pred_new = []\n",
        "for i in range(14):\n",
        "  new_X = X_predict[-60:].reshape(1, 60, 1)\n",
        "  new_pred = model_rnn.predict(new_X)\n",
        "  X_predict = np.concatenate((X_predict, new_pred), axis=0)\n",
        "  y_pred_new.append(new_pred[0])\n",
        "y_pred_new = np.array(y_pred_new)"
      ],
      "metadata": {
        "id": "z7CQvPj6ae4B",
        "colab": {
          "base_uri": "https://localhost:8080/"
        },
        "outputId": "1a74cb8c-52e8-4c3d-a3ca-b66b3ff99548"
      },
      "execution_count": null,
      "outputs": [
        {
          "output_type": "stream",
          "name": "stdout",
          "text": [
            "1/1 [==============================] - 0s 245ms/step\n",
            "1/1 [==============================] - 0s 31ms/step\n",
            "1/1 [==============================] - 0s 23ms/step\n",
            "1/1 [==============================] - 0s 22ms/step\n",
            "1/1 [==============================] - 0s 27ms/step\n",
            "1/1 [==============================] - 0s 23ms/step\n",
            "1/1 [==============================] - 0s 22ms/step\n",
            "1/1 [==============================] - 0s 25ms/step\n",
            "1/1 [==============================] - 0s 23ms/step\n",
            "1/1 [==============================] - 0s 22ms/step\n",
            "1/1 [==============================] - 0s 26ms/step\n",
            "1/1 [==============================] - 0s 22ms/step\n",
            "1/1 [==============================] - 0s 23ms/step\n",
            "1/1 [==============================] - 0s 23ms/step\n"
          ]
        }
      ]
    },
    {
      "cell_type": "code",
      "source": [
        "y_pred_inv = scaler.inverse_transform(y_pred_new).reshape(-1,)\n",
        "print(y_pred_inv)\n",
        "\n",
        "#Vẽ đồ thị dự đoán 14 ngày tiếp theo\n",
        "\n",
        "plt.plot(y_pred_inv)\n",
        "plt.xlabel('No. of days')\n",
        "plt.ylabel('Price')\n",
        "plt.title(\"Predicting the next 14 days's stock prices\")\n",
        "plt.show()"
      ],
      "metadata": {
        "id": "c8cuA4Bthm0-",
        "colab": {
          "base_uri": "https://localhost:8080/",
          "height": 349
        },
        "outputId": "b5d0d0ef-92f3-4b35-a1ab-14cdcce1de4d"
      },
      "execution_count": null,
      "outputs": [
        {
          "output_type": "stream",
          "name": "stdout",
          "text": [
            "[ 99.350334  99.37552  100.62011  100.63118  101.798645 102.90748\n",
            " 103.242165 103.34599  105.51014  105.96592  105.52357  106.55315\n",
            " 107.83512  107.75218 ]\n"
          ]
        },
        {
          "output_type": "display_data",
          "data": {
            "text/plain": [
              "<Figure size 432x288 with 1 Axes>"
            ],
            "image/png": "[encoded data removed]"
          },
          "metadata": {
            "needs_background": "light"
          }
        }
      ]
    },
    {
      "cell_type": "code",
      "source": [
        "# MLP \n",
        "model_MLP = tf.keras.models.Sequential([\n",
        "  tf.keras.layers.Flatten(input_shape = (60,1)),\n",
        "  tf.keras.layers.Dense(128, activation='relu'),\n",
        "  tf.keras.layers.Dropout(0.2),\n",
        "  tf.keras.layers.Dense(1)\n",
        "])"
      ],
      "metadata": {
        "id": "1dmnXEubudWK"
      },
      "execution_count": null,
      "outputs": []
    },
    {
      "cell_type": "code",
      "source": [
        "model_MLP.compile(optimizer='adam',\n",
        "              loss='mae')"
      ],
      "metadata": {
        "id": "xRh7iI9bpJK4"
      },
      "execution_count": null,
      "outputs": []
    },
    {
      "cell_type": "code",
      "source": [
        "history = model_MLP.fit(x_train, y_train, epochs = 40, batch_size = 32, validation_split=0.2)"
      ],
      "metadata": {
        "colab": {
          "base_uri": "https://localhost:8080/"
        },
        "id": "-1XZoauBvvEt",
        "outputId": "28caefd0-aa4f-44d2-8693-40f12b6b43c3"
      },
      "execution_count": null,
      "outputs": [
        {
          "output_type": "stream",
          "name": "stdout",
          "text": [
            "Epoch 1/40\n",
            "19/19 [==============================] - 0s 6ms/step - loss: 0.0268 - val_loss: 0.0651\n",
            "Epoch 2/40\n",
            "19/19 [==============================] - 0s 6ms/step - loss: 0.0249 - val_loss: 0.0626\n",
            "Epoch 3/40\n",
            "19/19 [==============================] - 0s 4ms/step - loss: 0.0246 - val_loss: 0.0268\n",
            "Epoch 4/40\n",
            "19/19 [==============================] - 0s 5ms/step - loss: 0.0239 - val_loss: 0.0264\n",
            "Epoch 5/40\n",
            "19/19 [==============================] - 0s 6ms/step - loss: 0.0229 - val_loss: 0.0597\n",
            "Epoch 6/40\n",
            "19/19 [==============================] - 0s 5ms/step - loss: 0.0232 - val_loss: 0.0311\n",
            "Epoch 7/40\n",
            "19/19 [==============================] - 0s 5ms/step - loss: 0.0236 - val_loss: 0.0406\n",
            "Epoch 8/40\n",
            "19/19 [==============================] - 0s 5ms/step - loss: 0.0232 - val_loss: 0.0537\n",
            "Epoch 9/40\n",
            "19/19 [==============================] - 0s 5ms/step - loss: 0.0260 - val_loss: 0.0277\n",
            "Epoch 10/40\n",
            "19/19 [==============================] - 0s 6ms/step - loss: 0.0240 - val_loss: 0.0317\n",
            "Epoch 11/40\n",
            "19/19 [==============================] - 0s 5ms/step - loss: 0.0227 - val_loss: 0.0347\n",
            "Epoch 12/40\n",
            "19/19 [==============================] - 0s 5ms/step - loss: 0.0227 - val_loss: 0.0385\n",
            "Epoch 13/40\n",
            "19/19 [==============================] - 0s 4ms/step - loss: 0.0245 - val_loss: 0.0440\n",
            "Epoch 14/40\n",
            "19/19 [==============================] - 0s 4ms/step - loss: 0.0268 - val_loss: 0.0632\n",
            "Epoch 15/40\n",
            "19/19 [==============================] - 0s 5ms/step - loss: 0.0234 - val_loss: 0.0272\n",
            "Epoch 16/40\n",
            "19/19 [==============================] - 0s 4ms/step - loss: 0.0221 - val_loss: 0.0665\n",
            "Epoch 17/40\n",
            "19/19 [==============================] - 0s 6ms/step - loss: 0.0244 - val_loss: 0.1062\n",
            "Epoch 18/40\n",
            "19/19 [==============================] - 0s 5ms/step - loss: 0.0225 - val_loss: 0.0905\n",
            "Epoch 19/40\n",
            "19/19 [==============================] - 0s 5ms/step - loss: 0.0240 - val_loss: 0.0762\n",
            "Epoch 20/40\n",
            "19/19 [==============================] - 0s 4ms/step - loss: 0.0227 - val_loss: 0.0434\n",
            "Epoch 21/40\n",
            "19/19 [==============================] - 0s 4ms/step - loss: 0.0246 - val_loss: 0.0432\n",
            "Epoch 22/40\n",
            "19/19 [==============================] - 0s 4ms/step - loss: 0.0266 - val_loss: 0.0908\n",
            "Epoch 23/40\n",
            "19/19 [==============================] - 0s 6ms/step - loss: 0.0236 - val_loss: 0.0469\n",
            "Epoch 24/40\n",
            "19/19 [==============================] - 0s 5ms/step - loss: 0.0259 - val_loss: 0.0895\n",
            "Epoch 25/40\n",
            "19/19 [==============================] - 0s 4ms/step - loss: 0.0249 - val_loss: 0.0514\n",
            "Epoch 26/40\n",
            "19/19 [==============================] - 0s 5ms/step - loss: 0.0221 - val_loss: 0.1273\n",
            "Epoch 27/40\n",
            "19/19 [==============================] - 0s 5ms/step - loss: 0.0265 - val_loss: 0.0296\n",
            "Epoch 28/40\n",
            "19/19 [==============================] - 0s 5ms/step - loss: 0.0264 - val_loss: 0.0368\n",
            "Epoch 29/40\n",
            "19/19 [==============================] - 0s 5ms/step - loss: 0.0225 - val_loss: 0.0546\n",
            "Epoch 30/40\n",
            "19/19 [==============================] - 0s 4ms/step - loss: 0.0231 - val_loss: 0.0458\n",
            "Epoch 31/40\n",
            "19/19 [==============================] - 0s 6ms/step - loss: 0.0217 - val_loss: 0.0253\n",
            "Epoch 32/40\n",
            "19/19 [==============================] - 0s 4ms/step - loss: 0.0231 - val_loss: 0.1228\n",
            "Epoch 33/40\n",
            "19/19 [==============================] - 0s 5ms/step - loss: 0.0325 - val_loss: 0.0854\n",
            "Epoch 34/40\n",
            "19/19 [==============================] - 0s 5ms/step - loss: 0.0300 - val_loss: 0.0461\n",
            "Epoch 35/40\n",
            "19/19 [==============================] - 0s 4ms/step - loss: 0.0235 - val_loss: 0.0258\n",
            "Epoch 36/40\n",
            "19/19 [==============================] - 0s 4ms/step - loss: 0.0235 - val_loss: 0.0298\n",
            "Epoch 37/40\n",
            "19/19 [==============================] - 0s 4ms/step - loss: 0.0212 - val_loss: 0.0291\n",
            "Epoch 38/40\n",
            "19/19 [==============================] - 0s 4ms/step - loss: 0.0253 - val_loss: 0.0644\n",
            "Epoch 39/40\n",
            "19/19 [==============================] - 0s 4ms/step - loss: 0.0238 - val_loss: 0.0256\n",
            "Epoch 40/40\n",
            "19/19 [==============================] - 0s 4ms/step - loss: 0.0217 - val_loss: 0.0259\n"
          ]
        }
      ]
    },
    {
      "cell_type": "code",
      "source": [
        "X_predict = df_Close[-60:].values.reshape(-1, 1)\n",
        "X_predict = scaler.transform(X_predict)\n",
        "y_pred_new = []\n",
        "for i in range(14):\n",
        "  new_X = X_predict[-60:].reshape(1, 60, 1)\n",
        "  new_pred = model_MLP.predict(new_X)\n",
        "  X_predict = np.concatenate((X_predict, new_pred), axis=0)\n",
        "  y_pred_new.append(new_pred[0])\n",
        "y_pred_new = np.array(y_pred_new)"
      ],
      "metadata": {
        "colab": {
          "base_uri": "https://localhost:8080/"
        },
        "id": "LbkuvBAqu2Lm",
        "outputId": "c838fccc-8a58-4e53-e80f-e91d5b38c2f5"
      },
      "execution_count": null,
      "outputs": [
        {
          "output_type": "stream",
          "name": "stdout",
          "text": [
            "1/1 [==============================] - 0s 102ms/step\n",
            "1/1 [==============================] - 0s 44ms/step\n",
            "1/1 [==============================] - 0s 47ms/step\n",
            "1/1 [==============================] - 0s 39ms/step\n",
            "1/1 [==============================] - 0s 50ms/step\n",
            "1/1 [==============================] - 0s 33ms/step\n",
            "1/1 [==============================] - 0s 41ms/step\n",
            "1/1 [==============================] - 0s 58ms/step\n",
            "1/1 [==============================] - 0s 61ms/step\n",
            "1/1 [==============================] - 0s 78ms/step\n",
            "1/1 [==============================] - 0s 77ms/step\n",
            "1/1 [==============================] - 0s 89ms/step\n",
            "1/1 [==============================] - 0s 123ms/step\n",
            "1/1 [==============================] - 0s 102ms/step\n"
          ]
        }
      ]
    },
    {
      "cell_type": "code",
      "source": [
        "y_pred_inv = scaler.inverse_transform(y_pred_new).reshape(-1,)\n",
        "print(y_pred_inv)\n",
        "\n",
        "#Vẽ đồ thị dự đoán 14 ngày tiếp theo\n",
        "\n",
        "plt.plot(y_pred_inv)\n",
        "plt.xlabel('No. of days')\n",
        "plt.ylabel('Price')\n",
        "plt.title(\"Predicting the next 14 days's stock prices\")\n",
        "plt.show()"
      ],
      "metadata": {
        "colab": {
          "base_uri": "https://localhost:8080/",
          "height": 349
        },
        "id": "YkjYEdzTv4gY",
        "outputId": "f827ab20-27f7-44e1-f3f4-c40170f3c5c0"
      },
      "execution_count": null,
      "outputs": [
        {
          "output_type": "stream",
          "name": "stdout",
          "text": [
            "[100.52777  101.67822  103.2686   103.1166   103.51648  103.62336\n",
            " 104.9844   106.49684  106.389465 106.41586  106.46415  107.737854\n",
            " 108.192924 106.64444 ]\n"
          ]
        },
        {
          "output_type": "display_data",
          "data": {
            "text/plain": [
              "<Figure size 432x288 with 1 Axes>"
            ],
            "image/png": "[encoded data removed]"
          },
          "metadata": {
            "needs_background": "light"
          }
        }
      ]
    },
    {
      "cell_type": "code",
      "source": [],
      "metadata": {
        "id": "ZoRRNg1Jv9Sc"
      },
      "execution_count": null,
      "outputs": []
    }
  ]
}